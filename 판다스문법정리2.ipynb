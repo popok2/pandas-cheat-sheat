{
 "cells": [
  {
   "cell_type": "markdown",
   "id": "0bfe47e9-a4bb-4fab-a3a4-d935450a55ba",
   "metadata": {},
   "source": [
    "## 4. 분석 문법"
   ]
  },
  {
   "cell_type": "code",
   "execution_count": 3,
   "id": "54b7a1e8-e338-4e7b-9fa8-90122715ca52",
   "metadata": {},
   "outputs": [
    {
     "data": {
      "text/html": [
       "<div>\n",
       "<style scoped>\n",
       "    .dataframe tbody tr th:only-of-type {\n",
       "        vertical-align: middle;\n",
       "    }\n",
       "\n",
       "    .dataframe tbody tr th {\n",
       "        vertical-align: top;\n",
       "    }\n",
       "\n",
       "    .dataframe thead th {\n",
       "        text-align: right;\n",
       "    }\n",
       "</style>\n",
       "<table border=\"1\" class=\"dataframe\">\n",
       "  <thead>\n",
       "    <tr style=\"text-align: right;\">\n",
       "      <th></th>\n",
       "      <th>CustomerID</th>\n",
       "      <th>Name</th>\n",
       "      <th>Gender</th>\n",
       "      <th>Age</th>\n",
       "      <th>Country</th>\n",
       "      <th>Product</th>\n",
       "      <th>Category</th>\n",
       "      <th>Price</th>\n",
       "      <th>Quantity</th>\n",
       "      <th>PurchaseDate</th>\n",
       "    </tr>\n",
       "  </thead>\n",
       "  <tbody>\n",
       "    <tr>\n",
       "      <th>0</th>\n",
       "      <td>1001</td>\n",
       "      <td>Alice</td>\n",
       "      <td>Female</td>\n",
       "      <td>25</td>\n",
       "      <td>USA</td>\n",
       "      <td>A101</td>\n",
       "      <td>Phone</td>\n",
       "      <td>500.0</td>\n",
       "      <td>1</td>\n",
       "      <td>2023-01-05 10:23:00</td>\n",
       "    </tr>\n",
       "    <tr>\n",
       "      <th>1</th>\n",
       "      <td>1002</td>\n",
       "      <td>Bob</td>\n",
       "      <td>Male</td>\n",
       "      <td>30</td>\n",
       "      <td>UK</td>\n",
       "      <td>B202</td>\n",
       "      <td>Laptop</td>\n",
       "      <td>900.0</td>\n",
       "      <td>1</td>\n",
       "      <td>2022-11-11 16:02:00</td>\n",
       "    </tr>\n",
       "    <tr>\n",
       "      <th>2</th>\n",
       "      <td>1003</td>\n",
       "      <td>Charlie</td>\n",
       "      <td>Male</td>\n",
       "      <td>22</td>\n",
       "      <td>Korea</td>\n",
       "      <td>C303</td>\n",
       "      <td>Phone</td>\n",
       "      <td>480.0</td>\n",
       "      <td>2</td>\n",
       "      <td>2023-08-20 13:40:00</td>\n",
       "    </tr>\n",
       "    <tr>\n",
       "      <th>3</th>\n",
       "      <td>1004</td>\n",
       "      <td>Daisy</td>\n",
       "      <td>Female</td>\n",
       "      <td>28</td>\n",
       "      <td>USA</td>\n",
       "      <td>D404</td>\n",
       "      <td>Tablet</td>\n",
       "      <td>300.0</td>\n",
       "      <td>1</td>\n",
       "      <td>2023-06-01 08:00:00</td>\n",
       "    </tr>\n",
       "    <tr>\n",
       "      <th>4</th>\n",
       "      <td>1005</td>\n",
       "      <td>Ethan</td>\n",
       "      <td>Male</td>\n",
       "      <td>35</td>\n",
       "      <td>Canada</td>\n",
       "      <td>E505</td>\n",
       "      <td>Laptop</td>\n",
       "      <td>NaN</td>\n",
       "      <td>1</td>\n",
       "      <td>2023-03-03 19:15:00</td>\n",
       "    </tr>\n",
       "  </tbody>\n",
       "</table>\n",
       "</div>"
      ],
      "text/plain": [
       "   CustomerID     Name  Gender  Age Country Product Category  Price  Quantity  \\\n",
       "0        1001    Alice  Female   25     USA    A101    Phone  500.0         1   \n",
       "1        1002      Bob    Male   30      UK    B202   Laptop  900.0         1   \n",
       "2        1003  Charlie    Male   22   Korea    C303    Phone  480.0         2   \n",
       "3        1004    Daisy  Female   28     USA    D404   Tablet  300.0         1   \n",
       "4        1005    Ethan    Male   35  Canada    E505   Laptop    NaN         1   \n",
       "\n",
       "          PurchaseDate  \n",
       "0  2023-01-05 10:23:00  \n",
       "1  2022-11-11 16:02:00  \n",
       "2  2023-08-20 13:40:00  \n",
       "3  2023-06-01 08:00:00  \n",
       "4  2023-03-03 19:15:00  "
      ]
     },
     "execution_count": 3,
     "metadata": {},
     "output_type": "execute_result"
    }
   ],
   "source": [
    "import pandas as pd\n",
    "df1 = pd.read_csv('sales_data.csv',encoding='utf-8-sig')\n",
    "df1"
   ]
  },
  {
   "cell_type": "code",
   "execution_count": 26,
   "id": "072f6f9b-d9e0-49d1-a900-91d02236220f",
   "metadata": {},
   "outputs": [
    {
     "data": {
      "text/html": [
       "<div>\n",
       "<style scoped>\n",
       "    .dataframe tbody tr th:only-of-type {\n",
       "        vertical-align: middle;\n",
       "    }\n",
       "\n",
       "    .dataframe tbody tr th {\n",
       "        vertical-align: top;\n",
       "    }\n",
       "\n",
       "    .dataframe thead th {\n",
       "        text-align: right;\n",
       "    }\n",
       "</style>\n",
       "<table border=\"1\" class=\"dataframe\">\n",
       "  <thead>\n",
       "    <tr style=\"text-align: right;\">\n",
       "      <th></th>\n",
       "      <th>CustomerID</th>\n",
       "      <th>Name</th>\n",
       "      <th>Gender</th>\n",
       "      <th>Age</th>\n",
       "      <th>Country</th>\n",
       "      <th>Product</th>\n",
       "      <th>Category</th>\n",
       "      <th>Price</th>\n",
       "      <th>Quantity</th>\n",
       "      <th>PurchaseDate</th>\n",
       "    </tr>\n",
       "  </thead>\n",
       "  <tbody>\n",
       "    <tr>\n",
       "      <th>0</th>\n",
       "      <td>1001</td>\n",
       "      <td>Alice</td>\n",
       "      <td>Female</td>\n",
       "      <td>25</td>\n",
       "      <td>USA</td>\n",
       "      <td>A101</td>\n",
       "      <td>Phone</td>\n",
       "      <td>500.0</td>\n",
       "      <td>1</td>\n",
       "      <td>2023-01-05 10:23:00</td>\n",
       "    </tr>\n",
       "  </tbody>\n",
       "</table>\n",
       "</div>"
      ],
      "text/plain": [
       "   CustomerID   Name  Gender  Age Country Product Category  Price  Quantity  \\\n",
       "0        1001  Alice  Female   25     USA    A101    Phone  500.0         1   \n",
       "\n",
       "          PurchaseDate  \n",
       "0  2023-01-05 10:23:00  "
      ]
     },
     "metadata": {},
     "output_type": "display_data"
    },
    {
     "data": {
      "text/html": [
       "<div>\n",
       "<style scoped>\n",
       "    .dataframe tbody tr th:only-of-type {\n",
       "        vertical-align: middle;\n",
       "    }\n",
       "\n",
       "    .dataframe tbody tr th {\n",
       "        vertical-align: top;\n",
       "    }\n",
       "\n",
       "    .dataframe thead th {\n",
       "        text-align: right;\n",
       "    }\n",
       "</style>\n",
       "<table border=\"1\" class=\"dataframe\">\n",
       "  <thead>\n",
       "    <tr style=\"text-align: right;\">\n",
       "      <th></th>\n",
       "      <th>CustomerID</th>\n",
       "      <th>Name</th>\n",
       "      <th>Gender</th>\n",
       "      <th>Age</th>\n",
       "      <th>Country</th>\n",
       "      <th>Product</th>\n",
       "      <th>Category</th>\n",
       "      <th>Price</th>\n",
       "      <th>Quantity</th>\n",
       "      <th>PurchaseDate</th>\n",
       "    </tr>\n",
       "  </thead>\n",
       "  <tbody>\n",
       "    <tr>\n",
       "      <th>4</th>\n",
       "      <td>1005</td>\n",
       "      <td>Ethan</td>\n",
       "      <td>Male</td>\n",
       "      <td>35</td>\n",
       "      <td>Canada</td>\n",
       "      <td>E505</td>\n",
       "      <td>Laptop</td>\n",
       "      <td>NaN</td>\n",
       "      <td>1</td>\n",
       "      <td>2023-03-03 19:15:00</td>\n",
       "    </tr>\n",
       "  </tbody>\n",
       "</table>\n",
       "</div>"
      ],
      "text/plain": [
       "   CustomerID   Name Gender  Age Country Product Category  Price  Quantity  \\\n",
       "4        1005  Ethan   Male   35  Canada    E505   Laptop    NaN         1   \n",
       "\n",
       "          PurchaseDate  \n",
       "4  2023-03-03 19:15:00  "
      ]
     },
     "metadata": {},
     "output_type": "display_data"
    },
    {
     "data": {
      "text/plain": [
       "(5, 10)"
      ]
     },
     "execution_count": 26,
     "metadata": {},
     "output_type": "execute_result"
    }
   ],
   "source": [
    "display(df1.head(1),\n",
    "        df1.tail(1))\n",
    "df1.shape"
   ]
  },
  {
   "cell_type": "code",
   "execution_count": 28,
   "id": "693fea27-8f85-4a9f-b263-1fbfc5a486f1",
   "metadata": {},
   "outputs": [
    {
     "name": "stdout",
     "output_type": "stream",
     "text": [
      "<class 'pandas.core.frame.DataFrame'>\n",
      "RangeIndex: 5 entries, 0 to 4\n",
      "Data columns (total 10 columns):\n",
      " #   Column        Non-Null Count  Dtype  \n",
      "---  ------        --------------  -----  \n",
      " 0   CustomerID    5 non-null      int64  \n",
      " 1   Name          5 non-null      object \n",
      " 2   Gender        5 non-null      object \n",
      " 3   Age           5 non-null      int64  \n",
      " 4   Country       5 non-null      object \n",
      " 5   Product       5 non-null      object \n",
      " 6   Category      5 non-null      object \n",
      " 7   Price         4 non-null      float64\n",
      " 8   Quantity      5 non-null      int64  \n",
      " 9   PurchaseDate  5 non-null      object \n",
      "dtypes: float64(1), int64(3), object(6)\n",
      "memory usage: 532.0+ bytes\n"
     ]
    }
   ],
   "source": [
    "df1.info()"
   ]
  },
  {
   "cell_type": "code",
   "execution_count": 38,
   "id": "50c013d5-ff60-4e24-b8aa-95ed4da24815",
   "metadata": {},
   "outputs": [
    {
     "data": {
      "text/plain": [
       "Index(['CustomerID', 'Name', 'Gender', 'Age', 'Country', 'Product', 'Category',\n",
       "       'Price', 'Quantity', 'PurchaseDate'],\n",
       "      dtype='object')"
      ]
     },
     "metadata": {},
     "output_type": "display_data"
    },
    {
     "data": {
      "text/plain": [
       "RangeIndex(start=0, stop=5, step=1)"
      ]
     },
     "metadata": {},
     "output_type": "display_data"
    }
   ],
   "source": [
    "display(df1.columns,\n",
    "        df1.index)"
   ]
  },
  {
   "cell_type": "code",
   "execution_count": 40,
   "id": "b56fd6be-acd6-4926-827b-302b28c58b94",
   "metadata": {},
   "outputs": [
    {
     "data": {
      "text/html": [
       "<div>\n",
       "<style scoped>\n",
       "    .dataframe tbody tr th:only-of-type {\n",
       "        vertical-align: middle;\n",
       "    }\n",
       "\n",
       "    .dataframe tbody tr th {\n",
       "        vertical-align: top;\n",
       "    }\n",
       "\n",
       "    .dataframe thead th {\n",
       "        text-align: right;\n",
       "    }\n",
       "</style>\n",
       "<table border=\"1\" class=\"dataframe\">\n",
       "  <thead>\n",
       "    <tr style=\"text-align: right;\">\n",
       "      <th></th>\n",
       "      <th>CustomerID</th>\n",
       "      <th>Age</th>\n",
       "      <th>Price</th>\n",
       "      <th>Quantity</th>\n",
       "    </tr>\n",
       "  </thead>\n",
       "  <tbody>\n",
       "    <tr>\n",
       "      <th>count</th>\n",
       "      <td>5.000000</td>\n",
       "      <td>5.000000</td>\n",
       "      <td>4.000000</td>\n",
       "      <td>5.000000</td>\n",
       "    </tr>\n",
       "    <tr>\n",
       "      <th>mean</th>\n",
       "      <td>1003.000000</td>\n",
       "      <td>28.000000</td>\n",
       "      <td>545.000000</td>\n",
       "      <td>1.200000</td>\n",
       "    </tr>\n",
       "    <tr>\n",
       "      <th>std</th>\n",
       "      <td>1.581139</td>\n",
       "      <td>4.949747</td>\n",
       "      <td>253.179778</td>\n",
       "      <td>0.447214</td>\n",
       "    </tr>\n",
       "    <tr>\n",
       "      <th>min</th>\n",
       "      <td>1001.000000</td>\n",
       "      <td>22.000000</td>\n",
       "      <td>300.000000</td>\n",
       "      <td>1.000000</td>\n",
       "    </tr>\n",
       "    <tr>\n",
       "      <th>25%</th>\n",
       "      <td>1002.000000</td>\n",
       "      <td>25.000000</td>\n",
       "      <td>435.000000</td>\n",
       "      <td>1.000000</td>\n",
       "    </tr>\n",
       "    <tr>\n",
       "      <th>50%</th>\n",
       "      <td>1003.000000</td>\n",
       "      <td>28.000000</td>\n",
       "      <td>490.000000</td>\n",
       "      <td>1.000000</td>\n",
       "    </tr>\n",
       "    <tr>\n",
       "      <th>75%</th>\n",
       "      <td>1004.000000</td>\n",
       "      <td>30.000000</td>\n",
       "      <td>600.000000</td>\n",
       "      <td>1.000000</td>\n",
       "    </tr>\n",
       "    <tr>\n",
       "      <th>max</th>\n",
       "      <td>1005.000000</td>\n",
       "      <td>35.000000</td>\n",
       "      <td>900.000000</td>\n",
       "      <td>2.000000</td>\n",
       "    </tr>\n",
       "  </tbody>\n",
       "</table>\n",
       "</div>"
      ],
      "text/plain": [
       "        CustomerID        Age       Price  Quantity\n",
       "count     5.000000   5.000000    4.000000  5.000000\n",
       "mean   1003.000000  28.000000  545.000000  1.200000\n",
       "std       1.581139   4.949747  253.179778  0.447214\n",
       "min    1001.000000  22.000000  300.000000  1.000000\n",
       "25%    1002.000000  25.000000  435.000000  1.000000\n",
       "50%    1003.000000  28.000000  490.000000  1.000000\n",
       "75%    1004.000000  30.000000  600.000000  1.000000\n",
       "max    1005.000000  35.000000  900.000000  2.000000"
      ]
     },
     "execution_count": 40,
     "metadata": {},
     "output_type": "execute_result"
    }
   ],
   "source": [
    "df1.describe()"
   ]
  },
  {
   "cell_type": "code",
   "execution_count": 62,
   "id": "726a1f32-ad38-425f-aaa5-c69993dee9dc",
   "metadata": {},
   "outputs": [
    {
     "data": {
      "text/plain": [
       "['Alice', 'Bob', 'Charlie', 'Daisy', 'Ethan']"
      ]
     },
     "metadata": {},
     "output_type": "display_data"
    },
    {
     "name": "stdout",
     "output_type": "stream",
     "text": [
      "1 Alice\n",
      "2 Bob\n",
      "3 Charlie\n",
      "4 Daisy\n",
      "5 Ethan\n"
     ]
    }
   ],
   "source": [
    "## enumerate는 리스트를 돌면서 인덱스 값과 해당 요소값을 같이 반환\n",
    "\n",
    "list=df1['Name'].tolist()\n",
    "display(list)\n",
    "for index,location in enumerate(list):\n",
    "    print(index+1,location)"
   ]
  },
  {
   "cell_type": "code",
   "execution_count": 66,
   "id": "ae4ad312-f359-4836-a822-1df9838c0a98",
   "metadata": {},
   "outputs": [
    {
     "data": {
      "text/html": [
       "<div>\n",
       "<style scoped>\n",
       "    .dataframe tbody tr th:only-of-type {\n",
       "        vertical-align: middle;\n",
       "    }\n",
       "\n",
       "    .dataframe tbody tr th {\n",
       "        vertical-align: top;\n",
       "    }\n",
       "\n",
       "    .dataframe thead th {\n",
       "        text-align: right;\n",
       "    }\n",
       "</style>\n",
       "<table border=\"1\" class=\"dataframe\">\n",
       "  <thead>\n",
       "    <tr style=\"text-align: right;\">\n",
       "      <th></th>\n",
       "      <th>CustomerID</th>\n",
       "      <th>Age</th>\n",
       "      <th>Price</th>\n",
       "      <th>Quantity</th>\n",
       "    </tr>\n",
       "  </thead>\n",
       "  <tbody>\n",
       "    <tr>\n",
       "      <th>CustomerID</th>\n",
       "      <td>1.000000e+00</td>\n",
       "      <td>0.574989</td>\n",
       "      <td>-0.520110</td>\n",
       "      <td>3.925231e-17</td>\n",
       "    </tr>\n",
       "    <tr>\n",
       "      <th>Age</th>\n",
       "      <td>5.749889e-01</td>\n",
       "      <td>1.000000</td>\n",
       "      <td>0.464567</td>\n",
       "      <td>-6.776309e-01</td>\n",
       "    </tr>\n",
       "    <tr>\n",
       "      <th>Price</th>\n",
       "      <td>-5.201104e-01</td>\n",
       "      <td>0.464567</td>\n",
       "      <td>1.000000</td>\n",
       "      <td>-1.711564e-01</td>\n",
       "    </tr>\n",
       "    <tr>\n",
       "      <th>Quantity</th>\n",
       "      <td>3.925231e-17</td>\n",
       "      <td>-0.677631</td>\n",
       "      <td>-0.171156</td>\n",
       "      <td>1.000000e+00</td>\n",
       "    </tr>\n",
       "  </tbody>\n",
       "</table>\n",
       "</div>"
      ],
      "text/plain": [
       "              CustomerID       Age     Price      Quantity\n",
       "CustomerID  1.000000e+00  0.574989 -0.520110  3.925231e-17\n",
       "Age         5.749889e-01  1.000000  0.464567 -6.776309e-01\n",
       "Price      -5.201104e-01  0.464567  1.000000 -1.711564e-01\n",
       "Quantity    3.925231e-17 -0.677631 -0.171156  1.000000e+00"
      ]
     },
     "execution_count": 66,
     "metadata": {},
     "output_type": "execute_result"
    }
   ],
   "source": [
    "## 열간의 상관관계 \n",
    "df1.corr(numeric_only=True)"
   ]
  },
  {
   "cell_type": "code",
   "execution_count": 96,
   "id": "2cabade1-c68a-4e51-b4ff-379854a5f2ca",
   "metadata": {
    "scrolled": true
   },
   "outputs": [
    {
     "data": {
      "text/plain": [
       "array(['Female', 'Male'], dtype=object)"
      ]
     },
     "metadata": {},
     "output_type": "display_data"
    },
    {
     "data": {
      "text/plain": [
       "2"
      ]
     },
     "metadata": {},
     "output_type": "display_data"
    },
    {
     "data": {
      "text/plain": [
       "5"
      ]
     },
     "metadata": {},
     "output_type": "display_data"
    },
    {
     "data": {
      "text/plain": [
       "Gender\n",
       "Male      0.6\n",
       "Female    0.4\n",
       "Name: proportion, dtype: float64"
      ]
     },
     "metadata": {},
     "output_type": "display_data"
    },
    {
     "data": {
      "text/plain": [
       "(21.985999999999997, 28.5]    3\n",
       "(28.5, 35.0]                  2\n",
       "Name: count, dtype: int64"
      ]
     },
     "metadata": {},
     "output_type": "display_data"
    }
   ],
   "source": [
    "# 특정 열에 포함되어있는 값의 종류\n",
    "display(df1['Gender'].unique())\n",
    "\n",
    "# 특정 열에 포함되어있는 값의 개수\n",
    "display(df1['Gender'].nunique())\n",
    "\n",
    "# 데이터 열의 사이즈를 보여준다 5개의 값으로 이뤄짐\n",
    "display(df1['Gender'].count())\n",
    "\n",
    "# 특정 열에 포함되어 있는 값의 종류별 개수\n",
    "# normalize=True 는 비율로 표시\n",
    "display(df1['Gender'].value_counts(normalize=True))\n",
    "\n",
    "# 숫자형 변수를 구간으로 분리  bins=2 두개의 구간으로 나눔\n",
    "display(df1['Age'].value_counts(bins=2))"
   ]
  },
  {
   "cell_type": "markdown",
   "id": "e162707a-96e8-4968-8f47-3c177e42c8ff",
   "metadata": {},
   "source": [
    "### pivot_table(),crosstab(),groupby()"
   ]
  },
  {
   "cell_type": "code",
   "execution_count": 108,
   "id": "9525018c-f7da-4295-9c23-35c8fe4c3072",
   "metadata": {},
   "outputs": [
    {
     "data": {
      "text/plain": [
       "Quantity  Gender\n",
       "1         Female    2\n",
       "          Male      2\n",
       "2         Male      1\n",
       "Name: count, dtype: int64"
      ]
     },
     "execution_count": 108,
     "metadata": {},
     "output_type": "execute_result"
    }
   ],
   "source": [
    "# 두개의 열의 조합 \n",
    "조합=df1[['Quantity','Gender']].value_counts()\n",
    "조합"
   ]
  },
  {
   "cell_type": "code",
   "execution_count": 132,
   "id": "0f850aa5-0853-41ee-aa52-1e63448d4b47",
   "metadata": {
    "scrolled": true
   },
   "outputs": [
    {
     "data": {
      "text/html": [
       "<div>\n",
       "<style scoped>\n",
       "    .dataframe tbody tr th:only-of-type {\n",
       "        vertical-align: middle;\n",
       "    }\n",
       "\n",
       "    .dataframe tbody tr th {\n",
       "        vertical-align: top;\n",
       "    }\n",
       "\n",
       "    .dataframe thead th {\n",
       "        text-align: right;\n",
       "    }\n",
       "</style>\n",
       "<table border=\"1\" class=\"dataframe\">\n",
       "  <thead>\n",
       "    <tr style=\"text-align: right;\">\n",
       "      <th></th>\n",
       "      <th></th>\n",
       "      <th>count</th>\n",
       "    </tr>\n",
       "    <tr>\n",
       "      <th>Quantity</th>\n",
       "      <th>Gender</th>\n",
       "      <th></th>\n",
       "    </tr>\n",
       "  </thead>\n",
       "  <tbody>\n",
       "    <tr>\n",
       "      <th rowspan=\"2\" valign=\"top\">1</th>\n",
       "      <th>Female</th>\n",
       "      <td>2</td>\n",
       "    </tr>\n",
       "    <tr>\n",
       "      <th>Male</th>\n",
       "      <td>2</td>\n",
       "    </tr>\n",
       "    <tr>\n",
       "      <th>2</th>\n",
       "      <th>Male</th>\n",
       "      <td>1</td>\n",
       "    </tr>\n",
       "  </tbody>\n",
       "</table>\n",
       "</div>"
      ],
      "text/plain": [
       "                 count\n",
       "Quantity Gender       \n",
       "1        Female      2\n",
       "         Male        2\n",
       "2        Male        1"
      ]
     },
     "metadata": {},
     "output_type": "display_data"
    },
    {
     "data": {
      "text/html": [
       "<div>\n",
       "<style scoped>\n",
       "    .dataframe tbody tr th:only-of-type {\n",
       "        vertical-align: middle;\n",
       "    }\n",
       "\n",
       "    .dataframe tbody tr th {\n",
       "        vertical-align: top;\n",
       "    }\n",
       "\n",
       "    .dataframe thead tr th {\n",
       "        text-align: left;\n",
       "    }\n",
       "\n",
       "    .dataframe thead tr:last-of-type th {\n",
       "        text-align: right;\n",
       "    }\n",
       "</style>\n",
       "<table border=\"1\" class=\"dataframe\">\n",
       "  <thead>\n",
       "    <tr>\n",
       "      <th></th>\n",
       "      <th colspan=\"2\" halign=\"left\">count</th>\n",
       "    </tr>\n",
       "    <tr>\n",
       "      <th>Gender</th>\n",
       "      <th>Female</th>\n",
       "      <th>Male</th>\n",
       "    </tr>\n",
       "    <tr>\n",
       "      <th>Quantity</th>\n",
       "      <th></th>\n",
       "      <th></th>\n",
       "    </tr>\n",
       "  </thead>\n",
       "  <tbody>\n",
       "    <tr>\n",
       "      <th>1</th>\n",
       "      <td>2.0</td>\n",
       "      <td>2.0</td>\n",
       "    </tr>\n",
       "    <tr>\n",
       "      <th>2</th>\n",
       "      <td>NaN</td>\n",
       "      <td>1.0</td>\n",
       "    </tr>\n",
       "  </tbody>\n",
       "</table>\n",
       "</div>"
      ],
      "text/plain": [
       "          count     \n",
       "Gender   Female Male\n",
       "Quantity            \n",
       "1           2.0  2.0\n",
       "2           NaN  1.0"
      ]
     },
     "metadata": {},
     "output_type": "display_data"
    }
   ],
   "source": [
    "display(조합.sort_index().to_frame())\n",
    "\n",
    "# 피벗테이블이란?\n",
    "#👉 “행과 열 기준으로 데이터를 다시 정리하고, 원하는 값들을 요약해서 보여주는 표\n",
    "# 통계적 요약,수치계산에 유용함 \n",
    "display(조합.sort_index().to_frame().unstack())"
   ]
  },
  {
   "cell_type": "code",
   "execution_count": 41,
   "id": "5d1e7915-13c7-438b-ac48-de2d15fa6789",
   "metadata": {},
   "outputs": [
    {
     "data": {
      "text/html": [
       "<div>\n",
       "<style scoped>\n",
       "    .dataframe tbody tr th:only-of-type {\n",
       "        vertical-align: middle;\n",
       "    }\n",
       "\n",
       "    .dataframe tbody tr th {\n",
       "        vertical-align: top;\n",
       "    }\n",
       "\n",
       "    .dataframe thead th {\n",
       "        text-align: right;\n",
       "    }\n",
       "</style>\n",
       "<table border=\"1\" class=\"dataframe\">\n",
       "  <thead>\n",
       "    <tr style=\"text-align: right;\">\n",
       "      <th>Gender</th>\n",
       "      <th>Female</th>\n",
       "      <th>Male</th>\n",
       "    </tr>\n",
       "    <tr>\n",
       "      <th>Quantity</th>\n",
       "      <th></th>\n",
       "      <th></th>\n",
       "    </tr>\n",
       "  </thead>\n",
       "  <tbody>\n",
       "    <tr>\n",
       "      <th>1</th>\n",
       "      <td>2.0</td>\n",
       "      <td>2.0</td>\n",
       "    </tr>\n",
       "    <tr>\n",
       "      <th>2</th>\n",
       "      <td>NaN</td>\n",
       "      <td>1.0</td>\n",
       "    </tr>\n",
       "  </tbody>\n",
       "</table>\n",
       "</div>"
      ],
      "text/plain": [
       "Gender    Female  Male\n",
       "Quantity              \n",
       "1            2.0   2.0\n",
       "2            NaN   1.0"
      ]
     },
     "execution_count": 41,
     "metadata": {},
     "output_type": "execute_result"
    }
   ],
   "source": [
    "df1.pivot_table(index='Quantity', columns='Gender', values='CustomerID', aggfunc='count') ## agg_fun='mean'이 기본값\n",
    "#  fill_value=None  nan을  대체\n",
    "#  dropna=True      nan을 제거 "
   ]
  },
  {
   "cell_type": "code",
   "execution_count": 49,
   "id": "cd0eea6b-65af-4971-abb9-3f84f37b708f",
   "metadata": {},
   "outputs": [
    {
     "data": {
      "text/html": [
       "<div>\n",
       "<style scoped>\n",
       "    .dataframe tbody tr th:only-of-type {\n",
       "        vertical-align: middle;\n",
       "    }\n",
       "\n",
       "    .dataframe tbody tr th {\n",
       "        vertical-align: top;\n",
       "    }\n",
       "\n",
       "    .dataframe thead th {\n",
       "        text-align: right;\n",
       "    }\n",
       "</style>\n",
       "<table border=\"1\" class=\"dataframe\">\n",
       "  <thead>\n",
       "    <tr style=\"text-align: right;\">\n",
       "      <th>Gender</th>\n",
       "      <th>Female</th>\n",
       "      <th>Male</th>\n",
       "    </tr>\n",
       "    <tr>\n",
       "      <th>Quantity</th>\n",
       "      <th></th>\n",
       "      <th></th>\n",
       "    </tr>\n",
       "  </thead>\n",
       "  <tbody>\n",
       "    <tr>\n",
       "      <th>1</th>\n",
       "      <td>2</td>\n",
       "      <td>2</td>\n",
       "    </tr>\n",
       "    <tr>\n",
       "      <th>2</th>\n",
       "      <td>0</td>\n",
       "      <td>1</td>\n",
       "    </tr>\n",
       "  </tbody>\n",
       "</table>\n",
       "</div>"
      ],
      "text/plain": [
       "Gender    Female  Male\n",
       "Quantity              \n",
       "1              2     2\n",
       "2              0     1"
      ]
     },
     "execution_count": 49,
     "metadata": {},
     "output_type": "execute_result"
    }
   ],
   "source": [
    "# 크로스탭이란?\n",
    "# 단순 빈도표,교차표 만들기에 유용함\n",
    "\n",
    "pd.crosstab(index=df1['Quantity'],columns=df1['Gender'])"
   ]
  },
  {
   "cell_type": "code",
   "execution_count": 53,
   "id": "a3d9e78c-bb9a-406c-8b1f-cd4e2dd7eb2f",
   "metadata": {},
   "outputs": [
    {
     "data": {
      "text/plain": [
       "5"
      ]
     },
     "execution_count": 53,
     "metadata": {},
     "output_type": "execute_result"
    }
   ],
   "source": [
    "## null값은 개수로 치지 않음\n",
    "df1['Price'].size"
   ]
  },
  {
   "cell_type": "code",
   "execution_count": 141,
   "id": "2a545172-c5d2-4cf1-9d63-536e31046462",
   "metadata": {},
   "outputs": [
    {
     "data": {
      "text/plain": [
       "Gender\n",
       "Female    2\n",
       "Male      4\n",
       "Name: Quantity, dtype: int64"
      ]
     },
     "execution_count": 141,
     "metadata": {},
     "output_type": "execute_result"
    }
   ],
   "source": [
    "df1.groupby(['Gender'])['Quantity'].sum()"
   ]
  },
  {
   "cell_type": "code",
   "execution_count": 61,
   "id": "f3f05a3f-c4d3-41f6-956c-aca470639a85",
   "metadata": {
    "scrolled": true
   },
   "outputs": [
    {
     "data": {
      "text/html": [
       "<div>\n",
       "<style scoped>\n",
       "    .dataframe tbody tr th:only-of-type {\n",
       "        vertical-align: middle;\n",
       "    }\n",
       "\n",
       "    .dataframe tbody tr th {\n",
       "        vertical-align: top;\n",
       "    }\n",
       "\n",
       "    .dataframe thead th {\n",
       "        text-align: right;\n",
       "    }\n",
       "</style>\n",
       "<table border=\"1\" class=\"dataframe\">\n",
       "  <thead>\n",
       "    <tr style=\"text-align: right;\">\n",
       "      <th></th>\n",
       "      <th></th>\n",
       "      <th>Age</th>\n",
       "    </tr>\n",
       "    <tr>\n",
       "      <th>Gender</th>\n",
       "      <th>Quantity</th>\n",
       "      <th></th>\n",
       "    </tr>\n",
       "  </thead>\n",
       "  <tbody>\n",
       "    <tr>\n",
       "      <th>Female</th>\n",
       "      <th>1</th>\n",
       "      <td>2</td>\n",
       "    </tr>\n",
       "    <tr>\n",
       "      <th rowspan=\"2\" valign=\"top\">Male</th>\n",
       "      <th>1</th>\n",
       "      <td>2</td>\n",
       "    </tr>\n",
       "    <tr>\n",
       "      <th>2</th>\n",
       "      <td>1</td>\n",
       "    </tr>\n",
       "  </tbody>\n",
       "</table>\n",
       "</div>"
      ],
      "text/plain": [
       "                 Age\n",
       "Gender Quantity     \n",
       "Female 1           2\n",
       "Male   1           2\n",
       "       2           1"
      ]
     },
     "execution_count": 61,
     "metadata": {},
     "output_type": "execute_result"
    }
   ],
   "source": [
    "df1.groupby(['Gender','Quantity'])[['Age']].count()"
   ]
  },
  {
   "cell_type": "code",
   "execution_count": 67,
   "id": "0949260b-8aee-4ecb-b585-d12875f968fd",
   "metadata": {
    "scrolled": true
   },
   "outputs": [
    {
     "data": {
      "text/html": [
       "<div>\n",
       "<style scoped>\n",
       "    .dataframe tbody tr th:only-of-type {\n",
       "        vertical-align: middle;\n",
       "    }\n",
       "\n",
       "    .dataframe tbody tr th {\n",
       "        vertical-align: top;\n",
       "    }\n",
       "\n",
       "    .dataframe thead th {\n",
       "        text-align: right;\n",
       "    }\n",
       "</style>\n",
       "<table border=\"1\" class=\"dataframe\">\n",
       "  <thead>\n",
       "    <tr style=\"text-align: right;\">\n",
       "      <th></th>\n",
       "      <th></th>\n",
       "      <th>0</th>\n",
       "    </tr>\n",
       "    <tr>\n",
       "      <th>Gender</th>\n",
       "      <th>Quantity</th>\n",
       "      <th></th>\n",
       "    </tr>\n",
       "  </thead>\n",
       "  <tbody>\n",
       "    <tr>\n",
       "      <th>Female</th>\n",
       "      <th>1</th>\n",
       "      <td>2</td>\n",
       "    </tr>\n",
       "    <tr>\n",
       "      <th rowspan=\"2\" valign=\"top\">Male</th>\n",
       "      <th>1</th>\n",
       "      <td>2</td>\n",
       "    </tr>\n",
       "    <tr>\n",
       "      <th>2</th>\n",
       "      <td>1</td>\n",
       "    </tr>\n",
       "  </tbody>\n",
       "</table>\n",
       "</div>"
      ],
      "text/plain": [
       "                 0\n",
       "Gender Quantity   \n",
       "Female 1         2\n",
       "Male   1         2\n",
       "       2         1"
      ]
     },
     "execution_count": 67,
     "metadata": {},
     "output_type": "execute_result"
    }
   ],
   "source": [
    "df1.groupby(['Gender','Quantity']).size().to_frame()"
   ]
  },
  {
   "cell_type": "markdown",
   "id": "c0a20f9b-aa3b-40c8-8522-ddc87f03b6d4",
   "metadata": {},
   "source": [
    "### 컬럼의 선택 /수정 /삭제 /결측"
   ]
  },
  {
   "cell_type": "code",
   "execution_count": 70,
   "id": "6d8326a7-e954-4d67-95f2-2ade02e8c343",
   "metadata": {},
   "outputs": [
    {
     "data": {
      "text/html": [
       "<div>\n",
       "<style scoped>\n",
       "    .dataframe tbody tr th:only-of-type {\n",
       "        vertical-align: middle;\n",
       "    }\n",
       "\n",
       "    .dataframe tbody tr th {\n",
       "        vertical-align: top;\n",
       "    }\n",
       "\n",
       "    .dataframe thead th {\n",
       "        text-align: right;\n",
       "    }\n",
       "</style>\n",
       "<table border=\"1\" class=\"dataframe\">\n",
       "  <thead>\n",
       "    <tr style=\"text-align: right;\">\n",
       "      <th></th>\n",
       "      <th>CustomerID</th>\n",
       "      <th>Name</th>\n",
       "      <th>Gender</th>\n",
       "      <th>Age</th>\n",
       "      <th>Country</th>\n",
       "      <th>Product</th>\n",
       "      <th>Category</th>\n",
       "      <th>Price</th>\n",
       "      <th>Quantity</th>\n",
       "      <th>PurchaseDate</th>\n",
       "    </tr>\n",
       "  </thead>\n",
       "  <tbody>\n",
       "    <tr>\n",
       "      <th>0</th>\n",
       "      <td>1001</td>\n",
       "      <td>Alice</td>\n",
       "      <td>Female</td>\n",
       "      <td>25</td>\n",
       "      <td>USA</td>\n",
       "      <td>A101</td>\n",
       "      <td>Phone</td>\n",
       "      <td>500.0</td>\n",
       "      <td>1</td>\n",
       "      <td>2023-01-05 10:23:00</td>\n",
       "    </tr>\n",
       "    <tr>\n",
       "      <th>1</th>\n",
       "      <td>1002</td>\n",
       "      <td>Bob</td>\n",
       "      <td>Male</td>\n",
       "      <td>30</td>\n",
       "      <td>UK</td>\n",
       "      <td>B202</td>\n",
       "      <td>Laptop</td>\n",
       "      <td>900.0</td>\n",
       "      <td>1</td>\n",
       "      <td>2022-11-11 16:02:00</td>\n",
       "    </tr>\n",
       "    <tr>\n",
       "      <th>2</th>\n",
       "      <td>1003</td>\n",
       "      <td>Charlie</td>\n",
       "      <td>Male</td>\n",
       "      <td>22</td>\n",
       "      <td>Korea</td>\n",
       "      <td>C303</td>\n",
       "      <td>Phone</td>\n",
       "      <td>480.0</td>\n",
       "      <td>2</td>\n",
       "      <td>2023-08-20 13:40:00</td>\n",
       "    </tr>\n",
       "    <tr>\n",
       "      <th>3</th>\n",
       "      <td>1004</td>\n",
       "      <td>Daisy</td>\n",
       "      <td>Female</td>\n",
       "      <td>28</td>\n",
       "      <td>USA</td>\n",
       "      <td>D404</td>\n",
       "      <td>Tablet</td>\n",
       "      <td>300.0</td>\n",
       "      <td>1</td>\n",
       "      <td>2023-06-01 08:00:00</td>\n",
       "    </tr>\n",
       "    <tr>\n",
       "      <th>4</th>\n",
       "      <td>1005</td>\n",
       "      <td>Ethan</td>\n",
       "      <td>Male</td>\n",
       "      <td>35</td>\n",
       "      <td>Canada</td>\n",
       "      <td>E505</td>\n",
       "      <td>Laptop</td>\n",
       "      <td>NaN</td>\n",
       "      <td>1</td>\n",
       "      <td>2023-03-03 19:15:00</td>\n",
       "    </tr>\n",
       "  </tbody>\n",
       "</table>\n",
       "</div>"
      ],
      "text/plain": [
       "   CustomerID     Name  Gender  Age Country Product Category  Price  Quantity  \\\n",
       "0        1001    Alice  Female   25     USA    A101    Phone  500.0         1   \n",
       "1        1002      Bob    Male   30      UK    B202   Laptop  900.0         1   \n",
       "2        1003  Charlie    Male   22   Korea    C303    Phone  480.0         2   \n",
       "3        1004    Daisy  Female   28     USA    D404   Tablet  300.0         1   \n",
       "4        1005    Ethan    Male   35  Canada    E505   Laptop    NaN         1   \n",
       "\n",
       "          PurchaseDate  \n",
       "0  2023-01-05 10:23:00  \n",
       "1  2022-11-11 16:02:00  \n",
       "2  2023-08-20 13:40:00  \n",
       "3  2023-06-01 08:00:00  \n",
       "4  2023-03-03 19:15:00  "
      ]
     },
     "execution_count": 70,
     "metadata": {},
     "output_type": "execute_result"
    }
   ],
   "source": [
    "df1"
   ]
  },
  {
   "cell_type": "code",
   "execution_count": 74,
   "id": "40b98a34-c988-4c5c-8958-8ce0722b9af6",
   "metadata": {},
   "outputs": [
    {
     "data": {
      "text/html": [
       "<div>\n",
       "<style scoped>\n",
       "    .dataframe tbody tr th:only-of-type {\n",
       "        vertical-align: middle;\n",
       "    }\n",
       "\n",
       "    .dataframe tbody tr th {\n",
       "        vertical-align: top;\n",
       "    }\n",
       "\n",
       "    .dataframe thead th {\n",
       "        text-align: right;\n",
       "    }\n",
       "</style>\n",
       "<table border=\"1\" class=\"dataframe\">\n",
       "  <thead>\n",
       "    <tr style=\"text-align: right;\">\n",
       "      <th></th>\n",
       "      <th>Name</th>\n",
       "      <th>Gender</th>\n",
       "    </tr>\n",
       "  </thead>\n",
       "  <tbody>\n",
       "    <tr>\n",
       "      <th>0</th>\n",
       "      <td>Alice</td>\n",
       "      <td>Female</td>\n",
       "    </tr>\n",
       "    <tr>\n",
       "      <th>1</th>\n",
       "      <td>Bob</td>\n",
       "      <td>Male</td>\n",
       "    </tr>\n",
       "    <tr>\n",
       "      <th>2</th>\n",
       "      <td>Charlie</td>\n",
       "      <td>Male</td>\n",
       "    </tr>\n",
       "    <tr>\n",
       "      <th>3</th>\n",
       "      <td>Daisy</td>\n",
       "      <td>Female</td>\n",
       "    </tr>\n",
       "    <tr>\n",
       "      <th>4</th>\n",
       "      <td>Ethan</td>\n",
       "      <td>Male</td>\n",
       "    </tr>\n",
       "  </tbody>\n",
       "</table>\n",
       "</div>"
      ],
      "text/plain": [
       "      Name  Gender\n",
       "0    Alice  Female\n",
       "1      Bob    Male\n",
       "2  Charlie    Male\n",
       "3    Daisy  Female\n",
       "4    Ethan    Male"
      ]
     },
     "execution_count": 74,
     "metadata": {},
     "output_type": "execute_result"
    }
   ],
   "source": [
    "df1[['Name','Gender']]"
   ]
  },
  {
   "cell_type": "code",
   "execution_count": 82,
   "id": "10b636f7-a6eb-4b26-9c3a-b5426c38707d",
   "metadata": {},
   "outputs": [
    {
     "data": {
      "text/html": [
       "<div>\n",
       "<style scoped>\n",
       "    .dataframe tbody tr th:only-of-type {\n",
       "        vertical-align: middle;\n",
       "    }\n",
       "\n",
       "    .dataframe tbody tr th {\n",
       "        vertical-align: top;\n",
       "    }\n",
       "\n",
       "    .dataframe thead th {\n",
       "        text-align: right;\n",
       "    }\n",
       "</style>\n",
       "<table border=\"1\" class=\"dataframe\">\n",
       "  <thead>\n",
       "    <tr style=\"text-align: right;\">\n",
       "      <th></th>\n",
       "      <th>CustomerID</th>\n",
       "      <th>Name</th>\n",
       "      <th>Gender</th>\n",
       "      <th>Age</th>\n",
       "      <th>Country</th>\n",
       "      <th>Product</th>\n",
       "      <th>Category</th>\n",
       "      <th>Price</th>\n",
       "      <th>Quantity</th>\n",
       "      <th>PurchaseDate</th>\n",
       "    </tr>\n",
       "  </thead>\n",
       "  <tbody>\n",
       "    <tr>\n",
       "      <th>1</th>\n",
       "      <td>1002</td>\n",
       "      <td>Bob</td>\n",
       "      <td>Male</td>\n",
       "      <td>30</td>\n",
       "      <td>UK</td>\n",
       "      <td>B202</td>\n",
       "      <td>Laptop</td>\n",
       "      <td>900.0</td>\n",
       "      <td>1</td>\n",
       "      <td>2022-11-11 16:02:00</td>\n",
       "    </tr>\n",
       "  </tbody>\n",
       "</table>\n",
       "</div>"
      ],
      "text/plain": [
       "   CustomerID Name Gender  Age Country Product Category  Price  Quantity  \\\n",
       "1        1002  Bob   Male   30      UK    B202   Laptop  900.0         1   \n",
       "\n",
       "          PurchaseDate  \n",
       "1  2022-11-11 16:02:00  "
      ]
     },
     "execution_count": 82,
     "metadata": {},
     "output_type": "execute_result"
    }
   ],
   "source": [
    "df1[df1['Name']=='Bob']"
   ]
  },
  {
   "cell_type": "code",
   "execution_count": 90,
   "id": "22f194d8-f95f-4f7a-a756-e6e8c6277bed",
   "metadata": {},
   "outputs": [
    {
     "data": {
      "text/plain": [
       "CustomerID      0\n",
       "Name            0\n",
       "Gender          0\n",
       "Age             0\n",
       "Country         0\n",
       "Product         0\n",
       "Category        0\n",
       "Price           1\n",
       "Quantity        0\n",
       "PurchaseDate    0\n",
       "dtype: int64"
      ]
     },
     "execution_count": 90,
     "metadata": {},
     "output_type": "execute_result"
    }
   ],
   "source": [
    "df1.isnull().sum()"
   ]
  },
  {
   "cell_type": "code",
   "execution_count": 108,
   "id": "cd165e97-d46d-4a8c-879d-1d94eaff4cf5",
   "metadata": {},
   "outputs": [
    {
     "data": {
      "text/html": [
       "<div>\n",
       "<style scoped>\n",
       "    .dataframe tbody tr th:only-of-type {\n",
       "        vertical-align: middle;\n",
       "    }\n",
       "\n",
       "    .dataframe tbody tr th {\n",
       "        vertical-align: top;\n",
       "    }\n",
       "\n",
       "    .dataframe thead th {\n",
       "        text-align: right;\n",
       "    }\n",
       "</style>\n",
       "<table border=\"1\" class=\"dataframe\">\n",
       "  <thead>\n",
       "    <tr style=\"text-align: right;\">\n",
       "      <th></th>\n",
       "      <th>CustomerID</th>\n",
       "      <th>Name</th>\n",
       "      <th>Gender</th>\n",
       "      <th>Age</th>\n",
       "      <th>Country</th>\n",
       "      <th>Product</th>\n",
       "      <th>Category</th>\n",
       "      <th>Price</th>\n",
       "      <th>Quantity</th>\n",
       "      <th>PurchaseDate</th>\n",
       "    </tr>\n",
       "  </thead>\n",
       "  <tbody>\n",
       "    <tr>\n",
       "      <th>0</th>\n",
       "      <td>1001</td>\n",
       "      <td>Alice</td>\n",
       "      <td>Female</td>\n",
       "      <td>25</td>\n",
       "      <td>USA</td>\n",
       "      <td>A101</td>\n",
       "      <td>Phone</td>\n",
       "      <td>500.0</td>\n",
       "      <td>1</td>\n",
       "      <td>2023-01-05 10:23:00</td>\n",
       "    </tr>\n",
       "    <tr>\n",
       "      <th>1</th>\n",
       "      <td>1002</td>\n",
       "      <td>Bob</td>\n",
       "      <td>Male</td>\n",
       "      <td>30</td>\n",
       "      <td>UK</td>\n",
       "      <td>B202</td>\n",
       "      <td>Laptop</td>\n",
       "      <td>900.0</td>\n",
       "      <td>1</td>\n",
       "      <td>2022-11-11 16:02:00</td>\n",
       "    </tr>\n",
       "    <tr>\n",
       "      <th>2</th>\n",
       "      <td>1003</td>\n",
       "      <td>Charlie</td>\n",
       "      <td>Male</td>\n",
       "      <td>22</td>\n",
       "      <td>Korea</td>\n",
       "      <td>C303</td>\n",
       "      <td>Phone</td>\n",
       "      <td>480.0</td>\n",
       "      <td>2</td>\n",
       "      <td>2023-08-20 13:40:00</td>\n",
       "    </tr>\n",
       "    <tr>\n",
       "      <th>3</th>\n",
       "      <td>1004</td>\n",
       "      <td>Daisy</td>\n",
       "      <td>Female</td>\n",
       "      <td>28</td>\n",
       "      <td>USA</td>\n",
       "      <td>D404</td>\n",
       "      <td>Tablet</td>\n",
       "      <td>300.0</td>\n",
       "      <td>1</td>\n",
       "      <td>2023-06-01 08:00:00</td>\n",
       "    </tr>\n",
       "  </tbody>\n",
       "</table>\n",
       "</div>"
      ],
      "text/plain": [
       "   CustomerID     Name  Gender  Age Country Product Category  Price  Quantity  \\\n",
       "0        1001    Alice  Female   25     USA    A101    Phone  500.0         1   \n",
       "1        1002      Bob    Male   30      UK    B202   Laptop  900.0         1   \n",
       "2        1003  Charlie    Male   22   Korea    C303    Phone  480.0         2   \n",
       "3        1004    Daisy  Female   28     USA    D404   Tablet  300.0         1   \n",
       "\n",
       "          PurchaseDate  \n",
       "0  2023-01-05 10:23:00  \n",
       "1  2022-11-11 16:02:00  \n",
       "2  2023-08-20 13:40:00  \n",
       "3  2023-06-01 08:00:00  "
      ]
     },
     "metadata": {},
     "output_type": "display_data"
    },
    {
     "data": {
      "text/html": [
       "<div>\n",
       "<style scoped>\n",
       "    .dataframe tbody tr th:only-of-type {\n",
       "        vertical-align: middle;\n",
       "    }\n",
       "\n",
       "    .dataframe tbody tr th {\n",
       "        vertical-align: top;\n",
       "    }\n",
       "\n",
       "    .dataframe thead th {\n",
       "        text-align: right;\n",
       "    }\n",
       "</style>\n",
       "<table border=\"1\" class=\"dataframe\">\n",
       "  <thead>\n",
       "    <tr style=\"text-align: right;\">\n",
       "      <th></th>\n",
       "      <th>CustomerID</th>\n",
       "      <th>Name</th>\n",
       "      <th>Gender</th>\n",
       "      <th>Age</th>\n",
       "      <th>Country</th>\n",
       "      <th>Product</th>\n",
       "      <th>Category</th>\n",
       "      <th>Price</th>\n",
       "      <th>Quantity</th>\n",
       "      <th>PurchaseDate</th>\n",
       "    </tr>\n",
       "  </thead>\n",
       "  <tbody>\n",
       "    <tr>\n",
       "      <th>0</th>\n",
       "      <td>1001</td>\n",
       "      <td>Alice</td>\n",
       "      <td>Female</td>\n",
       "      <td>25</td>\n",
       "      <td>USA</td>\n",
       "      <td>A101</td>\n",
       "      <td>Phone</td>\n",
       "      <td>500.0</td>\n",
       "      <td>1</td>\n",
       "      <td>2023-01-05 10:23:00</td>\n",
       "    </tr>\n",
       "    <tr>\n",
       "      <th>1</th>\n",
       "      <td>1002</td>\n",
       "      <td>Bob</td>\n",
       "      <td>Male</td>\n",
       "      <td>30</td>\n",
       "      <td>UK</td>\n",
       "      <td>B202</td>\n",
       "      <td>Laptop</td>\n",
       "      <td>900.0</td>\n",
       "      <td>1</td>\n",
       "      <td>2022-11-11 16:02:00</td>\n",
       "    </tr>\n",
       "    <tr>\n",
       "      <th>2</th>\n",
       "      <td>1003</td>\n",
       "      <td>Charlie</td>\n",
       "      <td>Male</td>\n",
       "      <td>22</td>\n",
       "      <td>Korea</td>\n",
       "      <td>C303</td>\n",
       "      <td>Phone</td>\n",
       "      <td>480.0</td>\n",
       "      <td>2</td>\n",
       "      <td>2023-08-20 13:40:00</td>\n",
       "    </tr>\n",
       "    <tr>\n",
       "      <th>3</th>\n",
       "      <td>1004</td>\n",
       "      <td>Daisy</td>\n",
       "      <td>Female</td>\n",
       "      <td>28</td>\n",
       "      <td>USA</td>\n",
       "      <td>D404</td>\n",
       "      <td>Tablet</td>\n",
       "      <td>300.0</td>\n",
       "      <td>1</td>\n",
       "      <td>2023-06-01 08:00:00</td>\n",
       "    </tr>\n",
       "  </tbody>\n",
       "</table>\n",
       "</div>"
      ],
      "text/plain": [
       "   CustomerID     Name  Gender  Age Country Product Category  Price  Quantity  \\\n",
       "0        1001    Alice  Female   25     USA    A101    Phone  500.0         1   \n",
       "1        1002      Bob    Male   30      UK    B202   Laptop  900.0         1   \n",
       "2        1003  Charlie    Male   22   Korea    C303    Phone  480.0         2   \n",
       "3        1004    Daisy  Female   28     USA    D404   Tablet  300.0         1   \n",
       "\n",
       "          PurchaseDate  \n",
       "0  2023-01-05 10:23:00  \n",
       "1  2022-11-11 16:02:00  \n",
       "2  2023-08-20 13:40:00  \n",
       "3  2023-06-01 08:00:00  "
      ]
     },
     "metadata": {},
     "output_type": "display_data"
    },
    {
     "data": {
      "text/html": [
       "<div>\n",
       "<style scoped>\n",
       "    .dataframe tbody tr th:only-of-type {\n",
       "        vertical-align: middle;\n",
       "    }\n",
       "\n",
       "    .dataframe tbody tr th {\n",
       "        vertical-align: top;\n",
       "    }\n",
       "\n",
       "    .dataframe thead th {\n",
       "        text-align: right;\n",
       "    }\n",
       "</style>\n",
       "<table border=\"1\" class=\"dataframe\">\n",
       "  <thead>\n",
       "    <tr style=\"text-align: right;\">\n",
       "      <th></th>\n",
       "      <th>CustomerID</th>\n",
       "      <th>Name</th>\n",
       "      <th>Gender</th>\n",
       "      <th>Age</th>\n",
       "      <th>Country</th>\n",
       "      <th>Product</th>\n",
       "      <th>Category</th>\n",
       "      <th>Price</th>\n",
       "      <th>Quantity</th>\n",
       "      <th>PurchaseDate</th>\n",
       "    </tr>\n",
       "  </thead>\n",
       "  <tbody>\n",
       "    <tr>\n",
       "      <th>0</th>\n",
       "      <td>1001</td>\n",
       "      <td>Alice</td>\n",
       "      <td>Female</td>\n",
       "      <td>25</td>\n",
       "      <td>USA</td>\n",
       "      <td>A101</td>\n",
       "      <td>Phone</td>\n",
       "      <td>500.0</td>\n",
       "      <td>1</td>\n",
       "      <td>2023-01-05 10:23:00</td>\n",
       "    </tr>\n",
       "    <tr>\n",
       "      <th>1</th>\n",
       "      <td>1002</td>\n",
       "      <td>Bob</td>\n",
       "      <td>Male</td>\n",
       "      <td>30</td>\n",
       "      <td>UK</td>\n",
       "      <td>B202</td>\n",
       "      <td>Laptop</td>\n",
       "      <td>900.0</td>\n",
       "      <td>1</td>\n",
       "      <td>2022-11-11 16:02:00</td>\n",
       "    </tr>\n",
       "    <tr>\n",
       "      <th>4</th>\n",
       "      <td>1005</td>\n",
       "      <td>Ethan</td>\n",
       "      <td>Male</td>\n",
       "      <td>35</td>\n",
       "      <td>Canada</td>\n",
       "      <td>E505</td>\n",
       "      <td>Laptop</td>\n",
       "      <td>NaN</td>\n",
       "      <td>1</td>\n",
       "      <td>2023-03-03 19:15:00</td>\n",
       "    </tr>\n",
       "  </tbody>\n",
       "</table>\n",
       "</div>"
      ],
      "text/plain": [
       "   CustomerID   Name  Gender  Age Country Product Category  Price  Quantity  \\\n",
       "0        1001  Alice  Female   25     USA    A101    Phone  500.0         1   \n",
       "1        1002    Bob    Male   30      UK    B202   Laptop  900.0         1   \n",
       "4        1005  Ethan    Male   35  Canada    E505   Laptop    NaN         1   \n",
       "\n",
       "          PurchaseDate  \n",
       "0  2023-01-05 10:23:00  \n",
       "1  2022-11-11 16:02:00  \n",
       "4  2023-03-03 19:15:00  "
      ]
     },
     "metadata": {},
     "output_type": "display_data"
    }
   ],
   "source": [
    "display(df1.dropna()) # 결측치 있는 모든 행 삭제\n",
    "display(df1.dropna(subset=['Price'])) # subset 열에 존재하는 결측치가 포함된 행만 삭제\n",
    "display(df1.drop(df1[df1['Price']<500].index))  # 조건에 맞게 삭제하기 "
   ]
  },
  {
   "cell_type": "code",
   "execution_count": null,
   "id": "a4a2be43-e878-4693-a0c5-130daf6103e8",
   "metadata": {},
   "outputs": [],
   "source": [
    "df1.fillna(1200) # 결측치를 1200으로 대체 "
   ]
  },
  {
   "cell_type": "markdown",
   "id": "56506c6a-57c6-4f88-a400-9f74fec78ffa",
   "metadata": {},
   "source": [
    "### np.where / query()\n",
    "\n",
    "- np.where(조건, 조건이 참일 때 값, 조건이 거짓일 때 값)\n",
    "- query()는 조건으로 행 필터링할 때 사용"
   ]
  },
  {
   "cell_type": "code",
   "execution_count": 237,
   "id": "019f45a3-c239-42b8-960b-3ce5eb21455d",
   "metadata": {},
   "outputs": [],
   "source": [
    "import numpy as np\n",
    "df1['가격 측정']= np.where(df1['Price']<500,'싸다','비싸다')"
   ]
  },
  {
   "cell_type": "code",
   "execution_count": 239,
   "id": "2726ccc7-523f-46a4-89fe-6e3e6b500a60",
   "metadata": {
    "scrolled": true
   },
   "outputs": [
    {
     "data": {
      "text/html": [
       "<div>\n",
       "<style scoped>\n",
       "    .dataframe tbody tr th:only-of-type {\n",
       "        vertical-align: middle;\n",
       "    }\n",
       "\n",
       "    .dataframe tbody tr th {\n",
       "        vertical-align: top;\n",
       "    }\n",
       "\n",
       "    .dataframe thead th {\n",
       "        text-align: right;\n",
       "    }\n",
       "</style>\n",
       "<table border=\"1\" class=\"dataframe\">\n",
       "  <thead>\n",
       "    <tr style=\"text-align: right;\">\n",
       "      <th></th>\n",
       "      <th>CustomerID</th>\n",
       "      <th>Name</th>\n",
       "      <th>Gender</th>\n",
       "      <th>Age</th>\n",
       "      <th>Country</th>\n",
       "      <th>Product</th>\n",
       "      <th>Category</th>\n",
       "      <th>Price</th>\n",
       "      <th>Quantity</th>\n",
       "      <th>PurchaseDate</th>\n",
       "      <th>가격 측정</th>\n",
       "    </tr>\n",
       "  </thead>\n",
       "  <tbody>\n",
       "    <tr>\n",
       "      <th>0</th>\n",
       "      <td>1001</td>\n",
       "      <td>Alice</td>\n",
       "      <td>Female</td>\n",
       "      <td>25</td>\n",
       "      <td>USA</td>\n",
       "      <td>A101</td>\n",
       "      <td>Phone</td>\n",
       "      <td>500.0</td>\n",
       "      <td>1</td>\n",
       "      <td>2023-01-05 10:23:00</td>\n",
       "      <td>비싸다</td>\n",
       "    </tr>\n",
       "  </tbody>\n",
       "</table>\n",
       "</div>"
      ],
      "text/plain": [
       "   CustomerID   Name  Gender  Age Country Product Category  Price  Quantity  \\\n",
       "0        1001  Alice  Female   25     USA    A101    Phone  500.0         1   \n",
       "\n",
       "          PurchaseDate 가격 측정  \n",
       "0  2023-01-05 10:23:00   비싸다  "
      ]
     },
     "execution_count": 239,
     "metadata": {},
     "output_type": "execute_result"
    }
   ],
   "source": [
    "df1.head(1)"
   ]
  },
  {
   "cell_type": "code",
   "execution_count": null,
   "id": "691388ab-ea5c-4dbb-a22f-807db254d318",
   "metadata": {},
   "outputs": [],
   "source": [
    "# 다단계 분류 \n",
    "df1['PriceLabel'] = np.where(df1['Price'] < 300, '매우저가',\n",
    "                      np.where(df1['Price'] < 500, '저가',\n",
    "                        np.where(df1['Price'] < 800, '중가', '고가')))"
   ]
  },
  {
   "cell_type": "code",
   "execution_count": 133,
   "id": "36944bc0-ee90-4d86-b26f-309a2763b708",
   "metadata": {},
   "outputs": [
    {
     "data": {
      "text/html": [
       "<div>\n",
       "<style scoped>\n",
       "    .dataframe tbody tr th:only-of-type {\n",
       "        vertical-align: middle;\n",
       "    }\n",
       "\n",
       "    .dataframe tbody tr th {\n",
       "        vertical-align: top;\n",
       "    }\n",
       "\n",
       "    .dataframe thead th {\n",
       "        text-align: right;\n",
       "    }\n",
       "</style>\n",
       "<table border=\"1\" class=\"dataframe\">\n",
       "  <thead>\n",
       "    <tr style=\"text-align: right;\">\n",
       "      <th></th>\n",
       "      <th>CustomerID</th>\n",
       "      <th>Name</th>\n",
       "      <th>Gender</th>\n",
       "      <th>Age</th>\n",
       "      <th>Country</th>\n",
       "      <th>Product</th>\n",
       "      <th>Category</th>\n",
       "      <th>Price</th>\n",
       "      <th>Quantity</th>\n",
       "      <th>PurchaseDate</th>\n",
       "      <th>가격 측정</th>\n",
       "    </tr>\n",
       "  </thead>\n",
       "  <tbody>\n",
       "    <tr>\n",
       "      <th>2</th>\n",
       "      <td>1003</td>\n",
       "      <td>Charlie</td>\n",
       "      <td>Male</td>\n",
       "      <td>22</td>\n",
       "      <td>Korea</td>\n",
       "      <td>C303</td>\n",
       "      <td>Phone</td>\n",
       "      <td>480.0</td>\n",
       "      <td>2</td>\n",
       "      <td>2023-08-20 13:40:00</td>\n",
       "      <td>싸다</td>\n",
       "    </tr>\n",
       "  </tbody>\n",
       "</table>\n",
       "</div>"
      ],
      "text/plain": [
       "   CustomerID     Name Gender  Age Country Product Category  Price  Quantity  \\\n",
       "2        1003  Charlie   Male   22   Korea    C303    Phone  480.0         2   \n",
       "\n",
       "          PurchaseDate 가격 측정  \n",
       "2  2023-08-20 13:40:00    싸다  "
      ]
     },
     "execution_count": 133,
     "metadata": {},
     "output_type": "execute_result"
    }
   ],
   "source": [
    "df1.query(\"Price<500 and Gender == 'Male'\") ## 범주형변수는 '  '  로 묶어줘야함 "
   ]
  },
  {
   "cell_type": "code",
   "execution_count": 241,
   "id": "ae0ddfe5-9bb1-4e2d-8268-401730fb11f2",
   "metadata": {},
   "outputs": [
    {
     "data": {
      "text/html": [
       "<div>\n",
       "<style scoped>\n",
       "    .dataframe tbody tr th:only-of-type {\n",
       "        vertical-align: middle;\n",
       "    }\n",
       "\n",
       "    .dataframe tbody tr th {\n",
       "        vertical-align: top;\n",
       "    }\n",
       "\n",
       "    .dataframe thead th {\n",
       "        text-align: right;\n",
       "    }\n",
       "</style>\n",
       "<table border=\"1\" class=\"dataframe\">\n",
       "  <thead>\n",
       "    <tr style=\"text-align: right;\">\n",
       "      <th></th>\n",
       "      <th>CustomerID</th>\n",
       "      <th>이름</th>\n",
       "      <th>Gender</th>\n",
       "      <th>Age</th>\n",
       "      <th>Country</th>\n",
       "      <th>Product</th>\n",
       "      <th>Category</th>\n",
       "      <th>Price</th>\n",
       "      <th>Quantity</th>\n",
       "      <th>PurchaseDate</th>\n",
       "      <th>가격 측정</th>\n",
       "    </tr>\n",
       "  </thead>\n",
       "  <tbody>\n",
       "    <tr>\n",
       "      <th>0</th>\n",
       "      <td>1001</td>\n",
       "      <td>Alice</td>\n",
       "      <td>Female</td>\n",
       "      <td>25</td>\n",
       "      <td>USA</td>\n",
       "      <td>A101</td>\n",
       "      <td>Phone</td>\n",
       "      <td>500.0</td>\n",
       "      <td>1</td>\n",
       "      <td>2023-01-05 10:23:00</td>\n",
       "      <td>비싸다</td>\n",
       "    </tr>\n",
       "    <tr>\n",
       "      <th>1</th>\n",
       "      <td>1002</td>\n",
       "      <td>Bob</td>\n",
       "      <td>Male</td>\n",
       "      <td>30</td>\n",
       "      <td>UK</td>\n",
       "      <td>B202</td>\n",
       "      <td>Laptop</td>\n",
       "      <td>900.0</td>\n",
       "      <td>1</td>\n",
       "      <td>2022-11-11 16:02:00</td>\n",
       "      <td>비싸다</td>\n",
       "    </tr>\n",
       "    <tr>\n",
       "      <th>2</th>\n",
       "      <td>1003</td>\n",
       "      <td>Charlie</td>\n",
       "      <td>Male</td>\n",
       "      <td>22</td>\n",
       "      <td>Korea</td>\n",
       "      <td>C303</td>\n",
       "      <td>Phone</td>\n",
       "      <td>480.0</td>\n",
       "      <td>2</td>\n",
       "      <td>2023-08-20 13:40:00</td>\n",
       "      <td>싸다</td>\n",
       "    </tr>\n",
       "    <tr>\n",
       "      <th>3</th>\n",
       "      <td>1004</td>\n",
       "      <td>Daisy</td>\n",
       "      <td>Female</td>\n",
       "      <td>28</td>\n",
       "      <td>USA</td>\n",
       "      <td>D404</td>\n",
       "      <td>Tablet</td>\n",
       "      <td>300.0</td>\n",
       "      <td>1</td>\n",
       "      <td>2023-06-01 08:00:00</td>\n",
       "      <td>싸다</td>\n",
       "    </tr>\n",
       "    <tr>\n",
       "      <th>4</th>\n",
       "      <td>1005</td>\n",
       "      <td>Ethan</td>\n",
       "      <td>Male</td>\n",
       "      <td>35</td>\n",
       "      <td>Canada</td>\n",
       "      <td>E505</td>\n",
       "      <td>Laptop</td>\n",
       "      <td>NaN</td>\n",
       "      <td>1</td>\n",
       "      <td>2023-03-03 19:15:00</td>\n",
       "      <td>비싸다</td>\n",
       "    </tr>\n",
       "  </tbody>\n",
       "</table>\n",
       "</div>"
      ],
      "text/plain": [
       "   CustomerID       이름  Gender  Age Country Product Category  Price  Quantity  \\\n",
       "0        1001    Alice  Female   25     USA    A101    Phone  500.0         1   \n",
       "1        1002      Bob    Male   30      UK    B202   Laptop  900.0         1   \n",
       "2        1003  Charlie    Male   22   Korea    C303    Phone  480.0         2   \n",
       "3        1004    Daisy  Female   28     USA    D404   Tablet  300.0         1   \n",
       "4        1005    Ethan    Male   35  Canada    E505   Laptop    NaN         1   \n",
       "\n",
       "          PurchaseDate 가격 측정  \n",
       "0  2023-01-05 10:23:00   비싸다  \n",
       "1  2022-11-11 16:02:00   비싸다  \n",
       "2  2023-08-20 13:40:00    싸다  \n",
       "3  2023-06-01 08:00:00    싸다  \n",
       "4  2023-03-03 19:15:00   비싸다  "
      ]
     },
     "execution_count": 241,
     "metadata": {},
     "output_type": "execute_result"
    }
   ],
   "source": [
    "# 칼럼명 변경하기 \n",
    "\n",
    "df1.rename(columns={'Name':'이름'})"
   ]
  },
  {
   "cell_type": "code",
   "execution_count": 243,
   "id": "aed44ba4-2baa-42a6-acb7-a16020188429",
   "metadata": {},
   "outputs": [],
   "source": [
    "df1.columns=['고객ID','이름','성별','나이','국가','상품','카테고리','가격','수량','구매날짜','가격측정']"
   ]
  },
  {
   "cell_type": "code",
   "execution_count": 245,
   "id": "03f7fb32-2ddd-4295-9c1c-621053d961e5",
   "metadata": {
    "scrolled": true
   },
   "outputs": [
    {
     "data": {
      "text/html": [
       "<div>\n",
       "<style scoped>\n",
       "    .dataframe tbody tr th:only-of-type {\n",
       "        vertical-align: middle;\n",
       "    }\n",
       "\n",
       "    .dataframe tbody tr th {\n",
       "        vertical-align: top;\n",
       "    }\n",
       "\n",
       "    .dataframe thead th {\n",
       "        text-align: right;\n",
       "    }\n",
       "</style>\n",
       "<table border=\"1\" class=\"dataframe\">\n",
       "  <thead>\n",
       "    <tr style=\"text-align: right;\">\n",
       "      <th></th>\n",
       "      <th>고객ID</th>\n",
       "      <th>이름</th>\n",
       "      <th>성별</th>\n",
       "      <th>나이</th>\n",
       "      <th>국가</th>\n",
       "      <th>상품</th>\n",
       "      <th>카테고리</th>\n",
       "      <th>가격</th>\n",
       "      <th>수량</th>\n",
       "      <th>구매날짜</th>\n",
       "      <th>가격측정</th>\n",
       "    </tr>\n",
       "  </thead>\n",
       "  <tbody>\n",
       "    <tr>\n",
       "      <th>0</th>\n",
       "      <td>1001</td>\n",
       "      <td>Alice</td>\n",
       "      <td>Female</td>\n",
       "      <td>25</td>\n",
       "      <td>USA</td>\n",
       "      <td>A101</td>\n",
       "      <td>Phone</td>\n",
       "      <td>500.0</td>\n",
       "      <td>1</td>\n",
       "      <td>2023-01-05 10:23:00</td>\n",
       "      <td>비싸다</td>\n",
       "    </tr>\n",
       "    <tr>\n",
       "      <th>1</th>\n",
       "      <td>1002</td>\n",
       "      <td>Bob</td>\n",
       "      <td>Male</td>\n",
       "      <td>30</td>\n",
       "      <td>UK</td>\n",
       "      <td>B202</td>\n",
       "      <td>Laptop</td>\n",
       "      <td>900.0</td>\n",
       "      <td>1</td>\n",
       "      <td>2022-11-11 16:02:00</td>\n",
       "      <td>비싸다</td>\n",
       "    </tr>\n",
       "    <tr>\n",
       "      <th>2</th>\n",
       "      <td>1003</td>\n",
       "      <td>Charlie</td>\n",
       "      <td>Male</td>\n",
       "      <td>22</td>\n",
       "      <td>Korea</td>\n",
       "      <td>C303</td>\n",
       "      <td>Phone</td>\n",
       "      <td>480.0</td>\n",
       "      <td>2</td>\n",
       "      <td>2023-08-20 13:40:00</td>\n",
       "      <td>싸다</td>\n",
       "    </tr>\n",
       "    <tr>\n",
       "      <th>3</th>\n",
       "      <td>1004</td>\n",
       "      <td>Daisy</td>\n",
       "      <td>Female</td>\n",
       "      <td>28</td>\n",
       "      <td>USA</td>\n",
       "      <td>D404</td>\n",
       "      <td>Tablet</td>\n",
       "      <td>300.0</td>\n",
       "      <td>1</td>\n",
       "      <td>2023-06-01 08:00:00</td>\n",
       "      <td>싸다</td>\n",
       "    </tr>\n",
       "    <tr>\n",
       "      <th>4</th>\n",
       "      <td>1005</td>\n",
       "      <td>Ethan</td>\n",
       "      <td>Male</td>\n",
       "      <td>35</td>\n",
       "      <td>Canada</td>\n",
       "      <td>E505</td>\n",
       "      <td>Laptop</td>\n",
       "      <td>NaN</td>\n",
       "      <td>1</td>\n",
       "      <td>2023-03-03 19:15:00</td>\n",
       "      <td>비싸다</td>\n",
       "    </tr>\n",
       "  </tbody>\n",
       "</table>\n",
       "</div>"
      ],
      "text/plain": [
       "   고객ID       이름      성별  나이      국가    상품    카테고리     가격  수량  \\\n",
       "0  1001    Alice  Female  25     USA  A101   Phone  500.0   1   \n",
       "1  1002      Bob    Male  30      UK  B202  Laptop  900.0   1   \n",
       "2  1003  Charlie    Male  22   Korea  C303   Phone  480.0   2   \n",
       "3  1004    Daisy  Female  28     USA  D404  Tablet  300.0   1   \n",
       "4  1005    Ethan    Male  35  Canada  E505  Laptop    NaN   1   \n",
       "\n",
       "                  구매날짜 가격측정  \n",
       "0  2023-01-05 10:23:00  비싸다  \n",
       "1  2022-11-11 16:02:00  비싸다  \n",
       "2  2023-08-20 13:40:00   싸다  \n",
       "3  2023-06-01 08:00:00   싸다  \n",
       "4  2023-03-03 19:15:00  비싸다  "
      ]
     },
     "execution_count": 245,
     "metadata": {},
     "output_type": "execute_result"
    }
   ],
   "source": [
    "df1"
   ]
  },
  {
   "cell_type": "code",
   "execution_count": 163,
   "id": "e758674b-0b43-4ad5-a3a9-38a76f9fe032",
   "metadata": {},
   "outputs": [
    {
     "data": {
      "text/plain": [
       "0"
      ]
     },
     "execution_count": 163,
     "metadata": {},
     "output_type": "execute_result"
    }
   ],
   "source": [
    "# 중복행 확인하기\n",
    "\n",
    "df1.duplicated().sum()"
   ]
  },
  {
   "cell_type": "code",
   "execution_count": null,
   "id": "d5045c83-23e3-4c4d-b1cc-0594febfc7fb",
   "metadata": {},
   "outputs": [],
   "source": [
    "df1.drop_duplicated() # 중복행 제거  # subset= ['열이름1',열이름2]  , keep='first  파라미터 사용시  중복의 첫번째만 남길수있음"
   ]
  },
  {
   "cell_type": "markdown",
   "id": "45f0774f-a3f6-4fff-bc6f-26ca9cedceac",
   "metadata": {},
   "source": [
    "## 데이터 병합"
   ]
  },
  {
   "cell_type": "code",
   "execution_count": 170,
   "id": "4a6e36ae-be19-44f9-84e5-ef7c5c08f2bb",
   "metadata": {},
   "outputs": [
    {
     "data": {
      "text/plain": [
       "0      Alice\n",
       "1        Bob\n",
       "2    Charlie\n",
       "3      Daisy\n",
       "4      Ethan\n",
       "0        USA\n",
       "1         UK\n",
       "2      Korea\n",
       "3        USA\n",
       "4     Canada\n",
       "dtype: object"
      ]
     },
     "metadata": {},
     "output_type": "display_data"
    },
    {
     "data": {
      "text/html": [
       "<div>\n",
       "<style scoped>\n",
       "    .dataframe tbody tr th:only-of-type {\n",
       "        vertical-align: middle;\n",
       "    }\n",
       "\n",
       "    .dataframe tbody tr th {\n",
       "        vertical-align: top;\n",
       "    }\n",
       "\n",
       "    .dataframe thead th {\n",
       "        text-align: right;\n",
       "    }\n",
       "</style>\n",
       "<table border=\"1\" class=\"dataframe\">\n",
       "  <thead>\n",
       "    <tr style=\"text-align: right;\">\n",
       "      <th></th>\n",
       "      <th>이름</th>\n",
       "      <th>국가</th>\n",
       "    </tr>\n",
       "  </thead>\n",
       "  <tbody>\n",
       "    <tr>\n",
       "      <th>0</th>\n",
       "      <td>Alice</td>\n",
       "      <td>USA</td>\n",
       "    </tr>\n",
       "    <tr>\n",
       "      <th>1</th>\n",
       "      <td>Bob</td>\n",
       "      <td>UK</td>\n",
       "    </tr>\n",
       "    <tr>\n",
       "      <th>2</th>\n",
       "      <td>Charlie</td>\n",
       "      <td>Korea</td>\n",
       "    </tr>\n",
       "    <tr>\n",
       "      <th>3</th>\n",
       "      <td>Daisy</td>\n",
       "      <td>USA</td>\n",
       "    </tr>\n",
       "    <tr>\n",
       "      <th>4</th>\n",
       "      <td>Ethan</td>\n",
       "      <td>Canada</td>\n",
       "    </tr>\n",
       "  </tbody>\n",
       "</table>\n",
       "</div>"
      ],
      "text/plain": [
       "        이름      국가\n",
       "0    Alice     USA\n",
       "1      Bob      UK\n",
       "2  Charlie   Korea\n",
       "3    Daisy     USA\n",
       "4    Ethan  Canada"
      ]
     },
     "metadata": {},
     "output_type": "display_data"
    }
   ],
   "source": [
    "# 데이터 합치기\n",
    "display(pd.concat([df1['이름'],df1['국가']],axis=0))\n",
    "display(pd.concat([df1['이름'],df1['국가']],axis=1))"
   ]
  },
  {
   "cell_type": "code",
   "execution_count": 172,
   "id": "2717a583-2049-412f-84f6-89d257f3652a",
   "metadata": {},
   "outputs": [
    {
     "data": {
      "text/html": [
       "<div>\n",
       "<style scoped>\n",
       "    .dataframe tbody tr th:only-of-type {\n",
       "        vertical-align: middle;\n",
       "    }\n",
       "\n",
       "    .dataframe tbody tr th {\n",
       "        vertical-align: top;\n",
       "    }\n",
       "\n",
       "    .dataframe thead th {\n",
       "        text-align: right;\n",
       "    }\n",
       "</style>\n",
       "<table border=\"1\" class=\"dataframe\">\n",
       "  <thead>\n",
       "    <tr style=\"text-align: right;\">\n",
       "      <th></th>\n",
       "      <th>고객ID</th>\n",
       "      <th>이름</th>\n",
       "      <th>성별</th>\n",
       "      <th>나이</th>\n",
       "      <th>국가</th>\n",
       "      <th>상품</th>\n",
       "      <th>카테고리</th>\n",
       "      <th>가격</th>\n",
       "      <th>수량</th>\n",
       "      <th>구매날짜</th>\n",
       "      <th>가격측정</th>\n",
       "    </tr>\n",
       "  </thead>\n",
       "  <tbody>\n",
       "    <tr>\n",
       "      <th>0</th>\n",
       "      <td>1001</td>\n",
       "      <td>Alice</td>\n",
       "      <td>Female</td>\n",
       "      <td>25</td>\n",
       "      <td>USA</td>\n",
       "      <td>A101</td>\n",
       "      <td>Phone</td>\n",
       "      <td>500.0</td>\n",
       "      <td>1</td>\n",
       "      <td>2023-01-05 10:23:00</td>\n",
       "      <td>비싸다</td>\n",
       "    </tr>\n",
       "    <tr>\n",
       "      <th>1</th>\n",
       "      <td>1002</td>\n",
       "      <td>Bob</td>\n",
       "      <td>Male</td>\n",
       "      <td>30</td>\n",
       "      <td>UK</td>\n",
       "      <td>B202</td>\n",
       "      <td>Laptop</td>\n",
       "      <td>900.0</td>\n",
       "      <td>1</td>\n",
       "      <td>2022-11-11 16:02:00</td>\n",
       "      <td>비싸다</td>\n",
       "    </tr>\n",
       "    <tr>\n",
       "      <th>2</th>\n",
       "      <td>1003</td>\n",
       "      <td>Charlie</td>\n",
       "      <td>Male</td>\n",
       "      <td>22</td>\n",
       "      <td>Korea</td>\n",
       "      <td>C303</td>\n",
       "      <td>Phone</td>\n",
       "      <td>480.0</td>\n",
       "      <td>2</td>\n",
       "      <td>2023-08-20 13:40:00</td>\n",
       "      <td>싸다</td>\n",
       "    </tr>\n",
       "    <tr>\n",
       "      <th>3</th>\n",
       "      <td>1004</td>\n",
       "      <td>Daisy</td>\n",
       "      <td>Female</td>\n",
       "      <td>28</td>\n",
       "      <td>USA</td>\n",
       "      <td>D404</td>\n",
       "      <td>Tablet</td>\n",
       "      <td>300.0</td>\n",
       "      <td>1</td>\n",
       "      <td>2023-06-01 08:00:00</td>\n",
       "      <td>싸다</td>\n",
       "    </tr>\n",
       "    <tr>\n",
       "      <th>4</th>\n",
       "      <td>1005</td>\n",
       "      <td>Ethan</td>\n",
       "      <td>Male</td>\n",
       "      <td>35</td>\n",
       "      <td>Canada</td>\n",
       "      <td>E505</td>\n",
       "      <td>Laptop</td>\n",
       "      <td>NaN</td>\n",
       "      <td>1</td>\n",
       "      <td>2023-03-03 19:15:00</td>\n",
       "      <td>비싸다</td>\n",
       "    </tr>\n",
       "  </tbody>\n",
       "</table>\n",
       "</div>"
      ],
      "text/plain": [
       "   고객ID       이름      성별  나이      국가    상품    카테고리     가격  수량  \\\n",
       "0  1001    Alice  Female  25     USA  A101   Phone  500.0   1   \n",
       "1  1002      Bob    Male  30      UK  B202  Laptop  900.0   1   \n",
       "2  1003  Charlie    Male  22   Korea  C303   Phone  480.0   2   \n",
       "3  1004    Daisy  Female  28     USA  D404  Tablet  300.0   1   \n",
       "4  1005    Ethan    Male  35  Canada  E505  Laptop    NaN   1   \n",
       "\n",
       "                  구매날짜 가격측정  \n",
       "0  2023-01-05 10:23:00  비싸다  \n",
       "1  2022-11-11 16:02:00  비싸다  \n",
       "2  2023-08-20 13:40:00   싸다  \n",
       "3  2023-06-01 08:00:00   싸다  \n",
       "4  2023-03-03 19:15:00  비싸다  "
      ]
     },
     "execution_count": 172,
     "metadata": {},
     "output_type": "execute_result"
    }
   ],
   "source": [
    "df1"
   ]
  },
  {
   "cell_type": "code",
   "execution_count": 174,
   "id": "eba5d9b2-63a3-4681-8b15-6b9e1ee1db3e",
   "metadata": {},
   "outputs": [],
   "source": [
    "df1_merge1=df1[['성별','국가']]\n",
    "df2_merge2=df1[['성별','가격측정']]"
   ]
  },
  {
   "cell_type": "code",
   "execution_count": 176,
   "id": "0128de45-34a2-411b-8b71-c78d0e19ebc4",
   "metadata": {},
   "outputs": [
    {
     "data": {
      "text/html": [
       "<div>\n",
       "<style scoped>\n",
       "    .dataframe tbody tr th:only-of-type {\n",
       "        vertical-align: middle;\n",
       "    }\n",
       "\n",
       "    .dataframe tbody tr th {\n",
       "        vertical-align: top;\n",
       "    }\n",
       "\n",
       "    .dataframe thead th {\n",
       "        text-align: right;\n",
       "    }\n",
       "</style>\n",
       "<table border=\"1\" class=\"dataframe\">\n",
       "  <thead>\n",
       "    <tr style=\"text-align: right;\">\n",
       "      <th></th>\n",
       "      <th>성별</th>\n",
       "      <th>국가</th>\n",
       "      <th>가격측정</th>\n",
       "    </tr>\n",
       "  </thead>\n",
       "  <tbody>\n",
       "    <tr>\n",
       "      <th>0</th>\n",
       "      <td>Female</td>\n",
       "      <td>USA</td>\n",
       "      <td>비싸다</td>\n",
       "    </tr>\n",
       "    <tr>\n",
       "      <th>1</th>\n",
       "      <td>Female</td>\n",
       "      <td>USA</td>\n",
       "      <td>싸다</td>\n",
       "    </tr>\n",
       "    <tr>\n",
       "      <th>2</th>\n",
       "      <td>Male</td>\n",
       "      <td>UK</td>\n",
       "      <td>비싸다</td>\n",
       "    </tr>\n",
       "    <tr>\n",
       "      <th>3</th>\n",
       "      <td>Male</td>\n",
       "      <td>UK</td>\n",
       "      <td>싸다</td>\n",
       "    </tr>\n",
       "    <tr>\n",
       "      <th>4</th>\n",
       "      <td>Male</td>\n",
       "      <td>UK</td>\n",
       "      <td>비싸다</td>\n",
       "    </tr>\n",
       "    <tr>\n",
       "      <th>5</th>\n",
       "      <td>Male</td>\n",
       "      <td>Korea</td>\n",
       "      <td>비싸다</td>\n",
       "    </tr>\n",
       "    <tr>\n",
       "      <th>6</th>\n",
       "      <td>Male</td>\n",
       "      <td>Korea</td>\n",
       "      <td>싸다</td>\n",
       "    </tr>\n",
       "    <tr>\n",
       "      <th>7</th>\n",
       "      <td>Male</td>\n",
       "      <td>Korea</td>\n",
       "      <td>비싸다</td>\n",
       "    </tr>\n",
       "    <tr>\n",
       "      <th>8</th>\n",
       "      <td>Female</td>\n",
       "      <td>USA</td>\n",
       "      <td>비싸다</td>\n",
       "    </tr>\n",
       "    <tr>\n",
       "      <th>9</th>\n",
       "      <td>Female</td>\n",
       "      <td>USA</td>\n",
       "      <td>싸다</td>\n",
       "    </tr>\n",
       "    <tr>\n",
       "      <th>10</th>\n",
       "      <td>Male</td>\n",
       "      <td>Canada</td>\n",
       "      <td>비싸다</td>\n",
       "    </tr>\n",
       "    <tr>\n",
       "      <th>11</th>\n",
       "      <td>Male</td>\n",
       "      <td>Canada</td>\n",
       "      <td>싸다</td>\n",
       "    </tr>\n",
       "    <tr>\n",
       "      <th>12</th>\n",
       "      <td>Male</td>\n",
       "      <td>Canada</td>\n",
       "      <td>비싸다</td>\n",
       "    </tr>\n",
       "  </tbody>\n",
       "</table>\n",
       "</div>"
      ],
      "text/plain": [
       "        성별      국가 가격측정\n",
       "0   Female     USA  비싸다\n",
       "1   Female     USA   싸다\n",
       "2     Male      UK  비싸다\n",
       "3     Male      UK   싸다\n",
       "4     Male      UK  비싸다\n",
       "5     Male   Korea  비싸다\n",
       "6     Male   Korea   싸다\n",
       "7     Male   Korea  비싸다\n",
       "8   Female     USA  비싸다\n",
       "9   Female     USA   싸다\n",
       "10    Male  Canada  비싸다\n",
       "11    Male  Canada   싸다\n",
       "12    Male  Canada  비싸다"
      ]
     },
     "execution_count": 176,
     "metadata": {},
     "output_type": "execute_result"
    }
   ],
   "source": [
    "pd.merge(df1_merge1,df2_merge2,on='성별',how='inner')"
   ]
  },
  {
   "cell_type": "markdown",
   "id": "d03dfcf1-de5e-46a2-ba15-eca8d4d192df",
   "metadata": {},
   "source": [
    "## 5. 기타함수\n",
    "### apply(),split(),lstrip(),replace(),Startwith(),map()"
   ]
  },
  {
   "cell_type": "code",
   "execution_count": 200,
   "id": "7988e0b1-3564-4b17-bea4-965fdd251205",
   "metadata": {},
   "outputs": [],
   "source": [
    "# apply는 특정 열의 행을 자동으로 돌기 때문에 for을 쓰지 않아도됨\n",
    "def 할인(row):\n",
    "    if row['가격측정']=='비싸다':\n",
    "        return '할인필요'\n",
    "    else:\n",
    "        return '할인불필요'\n",
    "    \n",
    "# df1의 하나의 행을 할인이라는 함수에 대입하라.\n",
    "df1['할인필요']=df1.apply(할인,axis=1)"
   ]
  },
  {
   "cell_type": "code",
   "execution_count": 202,
   "id": "f104e431-eb74-41a5-9fd0-b3b438213b18",
   "metadata": {},
   "outputs": [
    {
     "data": {
      "text/html": [
       "<div>\n",
       "<style scoped>\n",
       "    .dataframe tbody tr th:only-of-type {\n",
       "        vertical-align: middle;\n",
       "    }\n",
       "\n",
       "    .dataframe tbody tr th {\n",
       "        vertical-align: top;\n",
       "    }\n",
       "\n",
       "    .dataframe thead th {\n",
       "        text-align: right;\n",
       "    }\n",
       "</style>\n",
       "<table border=\"1\" class=\"dataframe\">\n",
       "  <thead>\n",
       "    <tr style=\"text-align: right;\">\n",
       "      <th></th>\n",
       "      <th>고객ID</th>\n",
       "      <th>이름</th>\n",
       "      <th>성별</th>\n",
       "      <th>나이</th>\n",
       "      <th>국가</th>\n",
       "      <th>상품</th>\n",
       "      <th>카테고리</th>\n",
       "      <th>가격</th>\n",
       "      <th>수량</th>\n",
       "      <th>구매날짜</th>\n",
       "      <th>가격측정</th>\n",
       "      <th>할인필요</th>\n",
       "    </tr>\n",
       "  </thead>\n",
       "  <tbody>\n",
       "    <tr>\n",
       "      <th>0</th>\n",
       "      <td>1001</td>\n",
       "      <td>Alice</td>\n",
       "      <td>Female</td>\n",
       "      <td>25</td>\n",
       "      <td>USA</td>\n",
       "      <td>A101</td>\n",
       "      <td>Phone</td>\n",
       "      <td>500.0</td>\n",
       "      <td>1</td>\n",
       "      <td>2023-01-05 10:23:00</td>\n",
       "      <td>비싸다</td>\n",
       "      <td>할인필요</td>\n",
       "    </tr>\n",
       "    <tr>\n",
       "      <th>1</th>\n",
       "      <td>1002</td>\n",
       "      <td>Bob</td>\n",
       "      <td>Male</td>\n",
       "      <td>30</td>\n",
       "      <td>UK</td>\n",
       "      <td>B202</td>\n",
       "      <td>Laptop</td>\n",
       "      <td>900.0</td>\n",
       "      <td>1</td>\n",
       "      <td>2022-11-11 16:02:00</td>\n",
       "      <td>비싸다</td>\n",
       "      <td>할인필요</td>\n",
       "    </tr>\n",
       "    <tr>\n",
       "      <th>2</th>\n",
       "      <td>1003</td>\n",
       "      <td>Charlie</td>\n",
       "      <td>Male</td>\n",
       "      <td>22</td>\n",
       "      <td>Korea</td>\n",
       "      <td>C303</td>\n",
       "      <td>Phone</td>\n",
       "      <td>480.0</td>\n",
       "      <td>2</td>\n",
       "      <td>2023-08-20 13:40:00</td>\n",
       "      <td>싸다</td>\n",
       "      <td>할인불필요</td>\n",
       "    </tr>\n",
       "    <tr>\n",
       "      <th>3</th>\n",
       "      <td>1004</td>\n",
       "      <td>Daisy</td>\n",
       "      <td>Female</td>\n",
       "      <td>28</td>\n",
       "      <td>USA</td>\n",
       "      <td>D404</td>\n",
       "      <td>Tablet</td>\n",
       "      <td>300.0</td>\n",
       "      <td>1</td>\n",
       "      <td>2023-06-01 08:00:00</td>\n",
       "      <td>싸다</td>\n",
       "      <td>할인불필요</td>\n",
       "    </tr>\n",
       "    <tr>\n",
       "      <th>4</th>\n",
       "      <td>1005</td>\n",
       "      <td>Ethan</td>\n",
       "      <td>Male</td>\n",
       "      <td>35</td>\n",
       "      <td>Canada</td>\n",
       "      <td>E505</td>\n",
       "      <td>Laptop</td>\n",
       "      <td>NaN</td>\n",
       "      <td>1</td>\n",
       "      <td>2023-03-03 19:15:00</td>\n",
       "      <td>비싸다</td>\n",
       "      <td>할인필요</td>\n",
       "    </tr>\n",
       "  </tbody>\n",
       "</table>\n",
       "</div>"
      ],
      "text/plain": [
       "   고객ID       이름      성별  나이      국가    상품    카테고리     가격  수량  \\\n",
       "0  1001    Alice  Female  25     USA  A101   Phone  500.0   1   \n",
       "1  1002      Bob    Male  30      UK  B202  Laptop  900.0   1   \n",
       "2  1003  Charlie    Male  22   Korea  C303   Phone  480.0   2   \n",
       "3  1004    Daisy  Female  28     USA  D404  Tablet  300.0   1   \n",
       "4  1005    Ethan    Male  35  Canada  E505  Laptop    NaN   1   \n",
       "\n",
       "                  구매날짜 가격측정   할인필요  \n",
       "0  2023-01-05 10:23:00  비싸다   할인필요  \n",
       "1  2022-11-11 16:02:00  비싸다   할인필요  \n",
       "2  2023-08-20 13:40:00   싸다  할인불필요  \n",
       "3  2023-06-01 08:00:00   싸다  할인불필요  \n",
       "4  2023-03-03 19:15:00  비싸다   할인필요  "
      ]
     },
     "execution_count": 202,
     "metadata": {},
     "output_type": "execute_result"
    }
   ],
   "source": [
    "df1"
   ]
  },
  {
   "cell_type": "code",
   "execution_count": 204,
   "id": "4f822638-3305-4563-b51d-31e63241353f",
   "metadata": {},
   "outputs": [
    {
     "data": {
      "text/plain": [
       "['사과', '바나나', '포도']"
      ]
     },
     "execution_count": 204,
     "metadata": {},
     "output_type": "execute_result"
    }
   ],
   "source": [
    "txt = \"사과,바나나,포도\"\n",
    "txt.split(\",\")"
   ]
  },
  {
   "cell_type": "code",
   "execution_count": 206,
   "id": "a08556d4-1dff-45e0-8f5a-35d3ab628688",
   "metadata": {},
   "outputs": [
    {
     "data": {
      "text/plain": [
       "'돈많은사람'"
      ]
     },
     "execution_count": 206,
     "metadata": {},
     "output_type": "execute_result"
    }
   ],
   "source": [
    "\"$$$돈많은사람\".lstrip(\"$\")"
   ]
  },
  {
   "cell_type": "code",
   "execution_count": 208,
   "id": "9319c85d-97da-4dea-afa4-6e414677b87d",
   "metadata": {},
   "outputs": [
    {
     "data": {
      "text/plain": [
       "'2024-06-29'"
      ]
     },
     "execution_count": 208,
     "metadata": {},
     "output_type": "execute_result"
    }
   ],
   "source": [
    "\"2024/06/29\".replace(\"/\", \"-\")"
   ]
  },
  {
   "cell_type": "code",
   "execution_count": 220,
   "id": "5b396465-646d-4987-9a28-f0ef5d82d5b7",
   "metadata": {},
   "outputs": [
    {
     "data": {
      "text/plain": [
       "0     True\n",
       "1    False\n",
       "2     True\n",
       "3    False\n",
       "4    False\n",
       "Name: 카테고리, dtype: bool"
      ]
     },
     "execution_count": 220,
     "metadata": {},
     "output_type": "execute_result"
    }
   ],
   "source": [
    "df1['카테고리'].str.startswith('P')"
   ]
  },
  {
   "cell_type": "code",
   "execution_count": 247,
   "id": "7b93281d-6b66-45f5-8861-43d997a67c7e",
   "metadata": {},
   "outputs": [],
   "source": [
    "# map() 어떤 값을 특정 값으로 치환하고 싶을떄\n",
    "Gender_map={'Female':'여성','Male':'남성'}\n",
    "df1['성별']=df1['성별'].map(Gender_map)"
   ]
  },
  {
   "cell_type": "code",
   "execution_count": 249,
   "id": "302352b0-5319-4629-9a92-7b24868818c8",
   "metadata": {},
   "outputs": [
    {
     "data": {
      "text/html": [
       "<div>\n",
       "<style scoped>\n",
       "    .dataframe tbody tr th:only-of-type {\n",
       "        vertical-align: middle;\n",
       "    }\n",
       "\n",
       "    .dataframe tbody tr th {\n",
       "        vertical-align: top;\n",
       "    }\n",
       "\n",
       "    .dataframe thead th {\n",
       "        text-align: right;\n",
       "    }\n",
       "</style>\n",
       "<table border=\"1\" class=\"dataframe\">\n",
       "  <thead>\n",
       "    <tr style=\"text-align: right;\">\n",
       "      <th></th>\n",
       "      <th>고객ID</th>\n",
       "      <th>이름</th>\n",
       "      <th>성별</th>\n",
       "      <th>나이</th>\n",
       "      <th>국가</th>\n",
       "      <th>상품</th>\n",
       "      <th>카테고리</th>\n",
       "      <th>가격</th>\n",
       "      <th>수량</th>\n",
       "      <th>구매날짜</th>\n",
       "      <th>가격측정</th>\n",
       "    </tr>\n",
       "  </thead>\n",
       "  <tbody>\n",
       "    <tr>\n",
       "      <th>0</th>\n",
       "      <td>1001</td>\n",
       "      <td>Alice</td>\n",
       "      <td>여성</td>\n",
       "      <td>25</td>\n",
       "      <td>USA</td>\n",
       "      <td>A101</td>\n",
       "      <td>Phone</td>\n",
       "      <td>500.0</td>\n",
       "      <td>1</td>\n",
       "      <td>2023-01-05 10:23:00</td>\n",
       "      <td>비싸다</td>\n",
       "    </tr>\n",
       "    <tr>\n",
       "      <th>1</th>\n",
       "      <td>1002</td>\n",
       "      <td>Bob</td>\n",
       "      <td>남성</td>\n",
       "      <td>30</td>\n",
       "      <td>UK</td>\n",
       "      <td>B202</td>\n",
       "      <td>Laptop</td>\n",
       "      <td>900.0</td>\n",
       "      <td>1</td>\n",
       "      <td>2022-11-11 16:02:00</td>\n",
       "      <td>비싸다</td>\n",
       "    </tr>\n",
       "    <tr>\n",
       "      <th>2</th>\n",
       "      <td>1003</td>\n",
       "      <td>Charlie</td>\n",
       "      <td>남성</td>\n",
       "      <td>22</td>\n",
       "      <td>Korea</td>\n",
       "      <td>C303</td>\n",
       "      <td>Phone</td>\n",
       "      <td>480.0</td>\n",
       "      <td>2</td>\n",
       "      <td>2023-08-20 13:40:00</td>\n",
       "      <td>싸다</td>\n",
       "    </tr>\n",
       "    <tr>\n",
       "      <th>3</th>\n",
       "      <td>1004</td>\n",
       "      <td>Daisy</td>\n",
       "      <td>여성</td>\n",
       "      <td>28</td>\n",
       "      <td>USA</td>\n",
       "      <td>D404</td>\n",
       "      <td>Tablet</td>\n",
       "      <td>300.0</td>\n",
       "      <td>1</td>\n",
       "      <td>2023-06-01 08:00:00</td>\n",
       "      <td>싸다</td>\n",
       "    </tr>\n",
       "    <tr>\n",
       "      <th>4</th>\n",
       "      <td>1005</td>\n",
       "      <td>Ethan</td>\n",
       "      <td>남성</td>\n",
       "      <td>35</td>\n",
       "      <td>Canada</td>\n",
       "      <td>E505</td>\n",
       "      <td>Laptop</td>\n",
       "      <td>NaN</td>\n",
       "      <td>1</td>\n",
       "      <td>2023-03-03 19:15:00</td>\n",
       "      <td>비싸다</td>\n",
       "    </tr>\n",
       "  </tbody>\n",
       "</table>\n",
       "</div>"
      ],
      "text/plain": [
       "   고객ID       이름  성별  나이      국가    상품    카테고리     가격  수량  \\\n",
       "0  1001    Alice  여성  25     USA  A101   Phone  500.0   1   \n",
       "1  1002      Bob  남성  30      UK  B202  Laptop  900.0   1   \n",
       "2  1003  Charlie  남성  22   Korea  C303   Phone  480.0   2   \n",
       "3  1004    Daisy  여성  28     USA  D404  Tablet  300.0   1   \n",
       "4  1005    Ethan  남성  35  Canada  E505  Laptop    NaN   1   \n",
       "\n",
       "                  구매날짜 가격측정  \n",
       "0  2023-01-05 10:23:00  비싸다  \n",
       "1  2022-11-11 16:02:00  비싸다  \n",
       "2  2023-08-20 13:40:00   싸다  \n",
       "3  2023-06-01 08:00:00   싸다  \n",
       "4  2023-03-03 19:15:00  비싸다  "
      ]
     },
     "execution_count": 249,
     "metadata": {},
     "output_type": "execute_result"
    }
   ],
   "source": [
    "df1"
   ]
  },
  {
   "cell_type": "markdown",
   "id": "0110f818-a614-4760-b01c-e66b0a2fb01b",
   "metadata": {},
   "source": [
    "### list_compression \n",
    "\n",
    "[표현식 for 변수 in 반복가능한객체]"
   ]
  },
  {
   "cell_type": "code",
   "execution_count": 259,
   "id": "7e2ab8ab-5e63-4c1d-a8cb-4f95a9be35e9",
   "metadata": {},
   "outputs": [
    {
     "data": {
      "text/plain": [
       "[1, 4, 9, 16, 25]"
      ]
     },
     "execution_count": 259,
     "metadata": {},
     "output_type": "execute_result"
    }
   ],
   "source": [
    "#문제 1: 1부터 5까지의 제곱 리스트 만들기\n",
    "\n",
    "[x**2 for x in range(1,6)]"
   ]
  },
  {
   "cell_type": "code",
   "execution_count": 263,
   "id": "7bf1eca3-5724-4edd-80d1-9ae34618aa3f",
   "metadata": {},
   "outputs": [
    {
     "data": {
      "text/plain": [
       "[2, 4, 6, 8, 10]"
      ]
     },
     "execution_count": 263,
     "metadata": {},
     "output_type": "execute_result"
    }
   ],
   "source": [
    "#문제 2: 1부터 10까지 중 짝수만 문자열로 바꿔 리스트로\n",
    "\n",
    "[x for x in range(1,11) if x%2 == 0]"
   ]
  },
  {
   "cell_type": "code",
   "execution_count": 265,
   "id": "f42fee87-a508-4bb5-b5eb-7c9d0edf145d",
   "metadata": {},
   "outputs": [
    {
     "data": {
      "text/plain": [
       "['small', 'big', 'small', 'small', 'big']"
      ]
     },
     "execution_count": 265,
     "metadata": {},
     "output_type": "execute_result"
    }
   ],
   "source": [
    "#문제 3: 숫자 리스트 [3, 7, 2, 1, 9]에서 5보다 크면 'Big', 작으면 'Small'\n",
    "\n",
    "['big' if x>5 else 'small' for x in [3,7,2,1,9]]"
   ]
  },
  {
   "cell_type": "code",
   "execution_count": 277,
   "id": "79f98332-6110-46a6-b66a-cbe5df05d8a4",
   "metadata": {},
   "outputs": [
    {
     "data": {
      "text/html": [
       "<div>\n",
       "<style scoped>\n",
       "    .dataframe tbody tr th:only-of-type {\n",
       "        vertical-align: middle;\n",
       "    }\n",
       "\n",
       "    .dataframe tbody tr th {\n",
       "        vertical-align: top;\n",
       "    }\n",
       "\n",
       "    .dataframe thead th {\n",
       "        text-align: right;\n",
       "    }\n",
       "</style>\n",
       "<table border=\"1\" class=\"dataframe\">\n",
       "  <thead>\n",
       "    <tr style=\"text-align: right;\">\n",
       "      <th></th>\n",
       "      <th>고객ID</th>\n",
       "      <th>이름</th>\n",
       "      <th>성별</th>\n",
       "      <th>나이</th>\n",
       "      <th>국가</th>\n",
       "      <th>상품</th>\n",
       "      <th>카테고리</th>\n",
       "      <th>가격</th>\n",
       "      <th>수량</th>\n",
       "      <th>구매날짜</th>\n",
       "      <th>가격측정</th>\n",
       "    </tr>\n",
       "  </thead>\n",
       "  <tbody>\n",
       "    <tr>\n",
       "      <th>4</th>\n",
       "      <td>1005</td>\n",
       "      <td>Ethan</td>\n",
       "      <td>남성</td>\n",
       "      <td>35</td>\n",
       "      <td>Canada</td>\n",
       "      <td>E505</td>\n",
       "      <td>Laptop</td>\n",
       "      <td>NaN</td>\n",
       "      <td>1</td>\n",
       "      <td>2023-03-03 19:15:00</td>\n",
       "      <td>비싸다</td>\n",
       "    </tr>\n",
       "    <tr>\n",
       "      <th>1</th>\n",
       "      <td>1002</td>\n",
       "      <td>Bob</td>\n",
       "      <td>남성</td>\n",
       "      <td>30</td>\n",
       "      <td>UK</td>\n",
       "      <td>B202</td>\n",
       "      <td>Laptop</td>\n",
       "      <td>900.0</td>\n",
       "      <td>1</td>\n",
       "      <td>2022-11-11 16:02:00</td>\n",
       "      <td>비싸다</td>\n",
       "    </tr>\n",
       "    <tr>\n",
       "      <th>3</th>\n",
       "      <td>1004</td>\n",
       "      <td>Daisy</td>\n",
       "      <td>여성</td>\n",
       "      <td>28</td>\n",
       "      <td>USA</td>\n",
       "      <td>D404</td>\n",
       "      <td>Tablet</td>\n",
       "      <td>300.0</td>\n",
       "      <td>1</td>\n",
       "      <td>2023-06-01 08:00:00</td>\n",
       "      <td>싸다</td>\n",
       "    </tr>\n",
       "    <tr>\n",
       "      <th>0</th>\n",
       "      <td>1001</td>\n",
       "      <td>Alice</td>\n",
       "      <td>여성</td>\n",
       "      <td>25</td>\n",
       "      <td>USA</td>\n",
       "      <td>A101</td>\n",
       "      <td>Phone</td>\n",
       "      <td>500.0</td>\n",
       "      <td>1</td>\n",
       "      <td>2023-01-05 10:23:00</td>\n",
       "      <td>비싸다</td>\n",
       "    </tr>\n",
       "    <tr>\n",
       "      <th>2</th>\n",
       "      <td>1003</td>\n",
       "      <td>Charlie</td>\n",
       "      <td>남성</td>\n",
       "      <td>22</td>\n",
       "      <td>Korea</td>\n",
       "      <td>C303</td>\n",
       "      <td>Phone</td>\n",
       "      <td>480.0</td>\n",
       "      <td>2</td>\n",
       "      <td>2023-08-20 13:40:00</td>\n",
       "      <td>싸다</td>\n",
       "    </tr>\n",
       "  </tbody>\n",
       "</table>\n",
       "</div>"
      ],
      "text/plain": [
       "   고객ID       이름  성별  나이      국가    상품    카테고리     가격  수량  \\\n",
       "4  1005    Ethan  남성  35  Canada  E505  Laptop    NaN   1   \n",
       "1  1002      Bob  남성  30      UK  B202  Laptop  900.0   1   \n",
       "3  1004    Daisy  여성  28     USA  D404  Tablet  300.0   1   \n",
       "0  1001    Alice  여성  25     USA  A101   Phone  500.0   1   \n",
       "2  1003  Charlie  남성  22   Korea  C303   Phone  480.0   2   \n",
       "\n",
       "                  구매날짜 가격측정  \n",
       "4  2023-03-03 19:15:00  비싸다  \n",
       "1  2022-11-11 16:02:00  비싸다  \n",
       "3  2023-06-01 08:00:00   싸다  \n",
       "0  2023-01-05 10:23:00  비싸다  \n",
       "2  2023-08-20 13:40:00   싸다  "
      ]
     },
     "metadata": {},
     "output_type": "display_data"
    },
    {
     "data": {
      "text/html": [
       "<div>\n",
       "<style scoped>\n",
       "    .dataframe tbody tr th:only-of-type {\n",
       "        vertical-align: middle;\n",
       "    }\n",
       "\n",
       "    .dataframe tbody tr th {\n",
       "        vertical-align: top;\n",
       "    }\n",
       "\n",
       "    .dataframe thead th {\n",
       "        text-align: right;\n",
       "    }\n",
       "</style>\n",
       "<table border=\"1\" class=\"dataframe\">\n",
       "  <thead>\n",
       "    <tr style=\"text-align: right;\">\n",
       "      <th></th>\n",
       "      <th>고객ID</th>\n",
       "      <th>이름</th>\n",
       "      <th>성별</th>\n",
       "      <th>나이</th>\n",
       "      <th>국가</th>\n",
       "      <th>상품</th>\n",
       "      <th>카테고리</th>\n",
       "      <th>가격</th>\n",
       "      <th>수량</th>\n",
       "      <th>구매날짜</th>\n",
       "      <th>가격측정</th>\n",
       "    </tr>\n",
       "  </thead>\n",
       "  <tbody>\n",
       "    <tr>\n",
       "      <th>0</th>\n",
       "      <td>1001</td>\n",
       "      <td>Alice</td>\n",
       "      <td>여성</td>\n",
       "      <td>25</td>\n",
       "      <td>USA</td>\n",
       "      <td>A101</td>\n",
       "      <td>Phone</td>\n",
       "      <td>500.0</td>\n",
       "      <td>1</td>\n",
       "      <td>2023-01-05 10:23:00</td>\n",
       "      <td>비싸다</td>\n",
       "    </tr>\n",
       "    <tr>\n",
       "      <th>1</th>\n",
       "      <td>1002</td>\n",
       "      <td>Bob</td>\n",
       "      <td>남성</td>\n",
       "      <td>30</td>\n",
       "      <td>UK</td>\n",
       "      <td>B202</td>\n",
       "      <td>Laptop</td>\n",
       "      <td>900.0</td>\n",
       "      <td>1</td>\n",
       "      <td>2022-11-11 16:02:00</td>\n",
       "      <td>비싸다</td>\n",
       "    </tr>\n",
       "    <tr>\n",
       "      <th>2</th>\n",
       "      <td>1003</td>\n",
       "      <td>Charlie</td>\n",
       "      <td>남성</td>\n",
       "      <td>22</td>\n",
       "      <td>Korea</td>\n",
       "      <td>C303</td>\n",
       "      <td>Phone</td>\n",
       "      <td>480.0</td>\n",
       "      <td>2</td>\n",
       "      <td>2023-08-20 13:40:00</td>\n",
       "      <td>싸다</td>\n",
       "    </tr>\n",
       "    <tr>\n",
       "      <th>3</th>\n",
       "      <td>1004</td>\n",
       "      <td>Daisy</td>\n",
       "      <td>여성</td>\n",
       "      <td>28</td>\n",
       "      <td>USA</td>\n",
       "      <td>D404</td>\n",
       "      <td>Tablet</td>\n",
       "      <td>300.0</td>\n",
       "      <td>1</td>\n",
       "      <td>2023-06-01 08:00:00</td>\n",
       "      <td>싸다</td>\n",
       "    </tr>\n",
       "    <tr>\n",
       "      <th>4</th>\n",
       "      <td>1005</td>\n",
       "      <td>Ethan</td>\n",
       "      <td>남성</td>\n",
       "      <td>35</td>\n",
       "      <td>Canada</td>\n",
       "      <td>E505</td>\n",
       "      <td>Laptop</td>\n",
       "      <td>NaN</td>\n",
       "      <td>1</td>\n",
       "      <td>2023-03-03 19:15:00</td>\n",
       "      <td>비싸다</td>\n",
       "    </tr>\n",
       "  </tbody>\n",
       "</table>\n",
       "</div>"
      ],
      "text/plain": [
       "   고객ID       이름  성별  나이      국가    상품    카테고리     가격  수량  \\\n",
       "0  1001    Alice  여성  25     USA  A101   Phone  500.0   1   \n",
       "1  1002      Bob  남성  30      UK  B202  Laptop  900.0   1   \n",
       "2  1003  Charlie  남성  22   Korea  C303   Phone  480.0   2   \n",
       "3  1004    Daisy  여성  28     USA  D404  Tablet  300.0   1   \n",
       "4  1005    Ethan  남성  35  Canada  E505  Laptop    NaN   1   \n",
       "\n",
       "                  구매날짜 가격측정  \n",
       "0  2023-01-05 10:23:00  비싸다  \n",
       "1  2022-11-11 16:02:00  비싸다  \n",
       "2  2023-08-20 13:40:00   싸다  \n",
       "3  2023-06-01 08:00:00   싸다  \n",
       "4  2023-03-03 19:15:00  비싸다  "
      ]
     },
     "execution_count": 277,
     "metadata": {},
     "output_type": "execute_result"
    }
   ],
   "source": [
    "## 정렬\n",
    "\n",
    "display(df1.sort_values(by='나이',ascending=False))\n",
    "\n",
    "## 인덱스 정렬\n",
    "\n",
    "df1.sort_index()"
   ]
  },
  {
   "cell_type": "code",
   "execution_count": 285,
   "id": "75eb78e2-b6fd-4036-a4b5-6c90108a40a3",
   "metadata": {},
   "outputs": [
    {
     "data": {
      "text/plain": [
       "[1, 2, 3, 7, 9]"
      ]
     },
     "execution_count": 285,
     "metadata": {},
     "output_type": "execute_result"
    }
   ],
   "source": [
    "#리스트 정렬\n",
    "list1=[3, 7, 2, 1, 9]\n",
    "list1.sort() # key 파라미터 사용시 조건에 맞춰 정렬가능 \n",
    "list1"
   ]
  },
  {
   "cell_type": "markdown",
   "id": "136d077c-8adb-4d72-81c6-31cc70740411",
   "metadata": {},
   "source": [
    "## lamda 함수\n",
    "### lambda 매개변수: 표현식\n",
    "\n"
   ]
  },
  {
   "cell_type": "code",
   "execution_count": 292,
   "id": "609ccacf-dcb4-4c16-8c1e-aa00303283da",
   "metadata": {},
   "outputs": [
    {
     "data": {
      "text/plain": [
       "8"
      ]
     },
     "execution_count": 292,
     "metadata": {},
     "output_type": "execute_result"
    }
   ],
   "source": [
    "add= lambda a,b : a+b\n",
    "add(3,5)"
   ]
  },
  {
   "cell_type": "code",
   "execution_count": 296,
   "id": "03c2c6b9-0530-4978-8f93-f12f3825dfd3",
   "metadata": {},
   "outputs": [
    {
     "data": {
      "text/plain": [
       "'홀수'"
      ]
     },
     "execution_count": 296,
     "metadata": {},
     "output_type": "execute_result"
    }
   ],
   "source": [
    "홀짝= lambda x: '짝수' if x%2==0 else '홀수'\n",
    "홀짝(3)"
   ]
  },
  {
   "cell_type": "code",
   "execution_count": null,
   "id": "427a8e26-cae2-4ed3-acf3-dbc810fa31d1",
   "metadata": {},
   "outputs": [],
   "source": [
    "# apply와 함꼐 결합\n",
    "df['카테고리'] = df['가격'].apply(lambda x: '고가' if x > 1000 else '저가')"
   ]
  },
  {
   "cell_type": "markdown",
   "id": "3a5324c0-2c49-42e3-a387-19b362780f8b",
   "metadata": {},
   "source": [
    "## qcut,cut,agg"
   ]
  }
 ],
 "metadata": {
  "kernelspec": {
   "display_name": "Python 3 (ipykernel)",
   "language": "python",
   "name": "python3"
  },
  "language_info": {
   "codemirror_mode": {
    "name": "ipython",
    "version": 3
   },
   "file_extension": ".py",
   "mimetype": "text/x-python",
   "name": "python",
   "nbconvert_exporter": "python",
   "pygments_lexer": "ipython3",
   "version": "3.12.4"
  }
 },
 "nbformat": 4,
 "nbformat_minor": 5
}
